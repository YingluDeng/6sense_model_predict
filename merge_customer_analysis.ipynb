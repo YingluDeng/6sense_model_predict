{
 "cells": [
  {
   "cell_type": "markdown",
   "metadata": {},
   "source": [
    "# Goal: Time frame with Calls Table and Events Table\n",
    "<ul>  \n",
    "<li><a href=\"#1\">Finding 1</a></li> \n",
    "<li><a href=\"#2\">Finding 2</a></li> \n",
    "<li><a href=\"#3\">Finding 3</a></li> \n",
    "<li><a href=\"#merge\">Merge Table with Time Frame</a></li> \n",
    "</ul>"
   ]
  },
  {
   "cell_type": "code",
   "execution_count": 107,
   "metadata": {},
   "outputs": [],
   "source": [
    "# Importing Data Science Libraries\n",
    "import pandas as pd\n",
    "import numpy as np\n",
    "import matplotlib.pyplot as plt\n",
    "import seaborn as sns\n",
    "import itertools\n",
    "%matplotlib inline\n",
    "from sklearn.model_selection import train_test_split,cross_val_score,KFold,cross_val_predict\n",
    "from sklearn.metrics import accuracy_score, classification_report, precision_score, recall_score,confusion_matrix,precision_recall_curve,roc_curve\n",
    "from sklearn.feature_selection import RFE\n",
    "from sklearn.linear_model import LogisticRegression\n",
    "from sklearn.ensemble import ExtraTreesClassifier,RandomForestClassifier,AdaBoostClassifier,GradientBoostingClassifier\n",
    "from sklearn.neighbors  import KNeighborsClassifier\n",
    "from sklearn import svm,tree"
   ]
  },
  {
   "cell_type": "code",
   "execution_count": 108,
   "metadata": {},
   "outputs": [
    {
     "data": {
      "text/html": [
       "<div>\n",
       "<style scoped>\n",
       "    .dataframe tbody tr th:only-of-type {\n",
       "        vertical-align: middle;\n",
       "    }\n",
       "\n",
       "    .dataframe tbody tr th {\n",
       "        vertical-align: top;\n",
       "    }\n",
       "\n",
       "    .dataframe thead th {\n",
       "        text-align: right;\n",
       "    }\n",
       "</style>\n",
       "<table border=\"1\" class=\"dataframe\">\n",
       "  <thead>\n",
       "    <tr style=\"text-align: right;\">\n",
       "      <th></th>\n",
       "      <th>date</th>\n",
       "      <th>call_disposition</th>\n",
       "      <th>contact_id</th>\n",
       "    </tr>\n",
       "  </thead>\n",
       "  <tbody>\n",
       "    <tr>\n",
       "      <th>0</th>\n",
       "      <td>2019-10-25</td>\n",
       "      <td>Left Voicemail</td>\n",
       "      <td>8820954680632966332</td>\n",
       "    </tr>\n",
       "    <tr>\n",
       "      <th>1</th>\n",
       "      <td>2019-10-25</td>\n",
       "      <td>No Answer</td>\n",
       "      <td>8820954680632966332</td>\n",
       "    </tr>\n",
       "    <tr>\n",
       "      <th>2</th>\n",
       "      <td>2019-10-28</td>\n",
       "      <td>Call Back Later</td>\n",
       "      <td>9085041672616908600</td>\n",
       "    </tr>\n",
       "    <tr>\n",
       "      <th>3</th>\n",
       "      <td>2019-07-31</td>\n",
       "      <td>Bad Number</td>\n",
       "      <td>6174483391018071888</td>\n",
       "    </tr>\n",
       "    <tr>\n",
       "      <th>4</th>\n",
       "      <td>2019-09-26</td>\n",
       "      <td>No Answer</td>\n",
       "      <td>6174483391018071888</td>\n",
       "    </tr>\n",
       "  </tbody>\n",
       "</table>\n",
       "</div>"
      ],
      "text/plain": [
       "         date call_disposition           contact_id\n",
       "0  2019-10-25   Left Voicemail  8820954680632966332\n",
       "1  2019-10-25        No Answer  8820954680632966332\n",
       "2  2019-10-28  Call Back Later  9085041672616908600\n",
       "3  2019-07-31       Bad Number  6174483391018071888\n",
       "4  2019-09-26        No Answer  6174483391018071888"
      ]
     },
     "execution_count": 108,
     "metadata": {},
     "output_type": "execute_result"
    }
   ],
   "source": [
    "calls = pd.read_csv('calls.csv')\n",
    "calls.head()"
   ]
  },
  {
   "cell_type": "code",
   "execution_count": 3,
   "metadata": {},
   "outputs": [],
   "source": [
    "# # change the date from str to datetime\n",
    "# new_calls = calls.copy()\n",
    "# new_calls['date'] = pd.to_datetime(new_calls['date'], format='%Y-%m-%d')\n",
    "# new_calls"
   ]
  },
  {
   "cell_type": "code",
   "execution_count": 4,
   "metadata": {},
   "outputs": [
    {
     "data": {
      "text/plain": [
       "(367098, 3)"
      ]
     },
     "execution_count": 4,
     "metadata": {},
     "output_type": "execute_result"
    }
   ],
   "source": [
    "calls.shape"
   ]
  },
  {
   "cell_type": "code",
   "execution_count": 5,
   "metadata": {},
   "outputs": [
    {
     "data": {
      "text/html": [
       "<div>\n",
       "<style scoped>\n",
       "    .dataframe tbody tr th:only-of-type {\n",
       "        vertical-align: middle;\n",
       "    }\n",
       "\n",
       "    .dataframe tbody tr th {\n",
       "        vertical-align: top;\n",
       "    }\n",
       "\n",
       "    .dataframe thead th {\n",
       "        text-align: right;\n",
       "    }\n",
       "</style>\n",
       "<table border=\"1\" class=\"dataframe\">\n",
       "  <thead>\n",
       "    <tr style=\"text-align: right;\">\n",
       "      <th></th>\n",
       "      <th>company_id</th>\n",
       "      <th>industry</th>\n",
       "      <th>employee_range</th>\n",
       "    </tr>\n",
       "  </thead>\n",
       "  <tbody>\n",
       "    <tr>\n",
       "      <th>0</th>\n",
       "      <td>01bcdf2ec356bf5</td>\n",
       "      <td>Software and Technology</td>\n",
       "      <td>20 - 49</td>\n",
       "    </tr>\n",
       "    <tr>\n",
       "      <th>1</th>\n",
       "      <td>030b0e04558fc88</td>\n",
       "      <td>Software and Technology</td>\n",
       "      <td>100 - 249</td>\n",
       "    </tr>\n",
       "    <tr>\n",
       "      <th>2</th>\n",
       "      <td>03561c542b2cdcb</td>\n",
       "      <td>Business Services</td>\n",
       "      <td>50 - 99</td>\n",
       "    </tr>\n",
       "    <tr>\n",
       "      <th>3</th>\n",
       "      <td>0366327bf47fb01</td>\n",
       "      <td>Financial Services</td>\n",
       "      <td>20 - 49</td>\n",
       "    </tr>\n",
       "    <tr>\n",
       "      <th>4</th>\n",
       "      <td>03ab9ddb892161d</td>\n",
       "      <td>Business Services</td>\n",
       "      <td>0 - 9</td>\n",
       "    </tr>\n",
       "  </tbody>\n",
       "</table>\n",
       "</div>"
      ],
      "text/plain": [
       "        company_id                 industry employee_range\n",
       "0  01bcdf2ec356bf5  Software and Technology        20 - 49\n",
       "1  030b0e04558fc88  Software and Technology      100 - 249\n",
       "2  03561c542b2cdcb        Business Services        50 - 99\n",
       "3  0366327bf47fb01       Financial Services        20 - 49\n",
       "4  03ab9ddb892161d        Business Services          0 - 9"
      ]
     },
     "execution_count": 5,
     "metadata": {},
     "output_type": "execute_result"
    }
   ],
   "source": [
    "companies = pd.read_csv('companies.csv')\n",
    "companies.head()"
   ]
  },
  {
   "cell_type": "code",
   "execution_count": 6,
   "metadata": {},
   "outputs": [
    {
     "data": {
      "text/plain": [
       "(31110, 3)"
      ]
     },
     "execution_count": 6,
     "metadata": {},
     "output_type": "execute_result"
    }
   ],
   "source": [
    "companies.shape"
   ]
  },
  {
   "cell_type": "code",
   "execution_count": 7,
   "metadata": {},
   "outputs": [
    {
     "data": {
      "text/html": [
       "<div>\n",
       "<style scoped>\n",
       "    .dataframe tbody tr th:only-of-type {\n",
       "        vertical-align: middle;\n",
       "    }\n",
       "\n",
       "    .dataframe tbody tr th {\n",
       "        vertical-align: top;\n",
       "    }\n",
       "\n",
       "    .dataframe thead th {\n",
       "        text-align: right;\n",
       "    }\n",
       "</style>\n",
       "<table border=\"1\" class=\"dataframe\">\n",
       "  <thead>\n",
       "    <tr style=\"text-align: right;\">\n",
       "      <th></th>\n",
       "      <th>date</th>\n",
       "      <th>activity_action</th>\n",
       "      <th>activity_type</th>\n",
       "      <th>contact_id</th>\n",
       "    </tr>\n",
       "  </thead>\n",
       "  <tbody>\n",
       "    <tr>\n",
       "      <th>0</th>\n",
       "      <td>2019-04-24</td>\n",
       "      <td>view</td>\n",
       "      <td>known_web_visit</td>\n",
       "      <td>4108398267771616228</td>\n",
       "    </tr>\n",
       "    <tr>\n",
       "      <th>1</th>\n",
       "      <td>2019-04-24</td>\n",
       "      <td>view</td>\n",
       "      <td>known_web_visit</td>\n",
       "      <td>1615093602351989804</td>\n",
       "    </tr>\n",
       "    <tr>\n",
       "      <th>2</th>\n",
       "      <td>2019-04-24</td>\n",
       "      <td>view</td>\n",
       "      <td>known_web_visit</td>\n",
       "      <td>8031730183355860699</td>\n",
       "    </tr>\n",
       "    <tr>\n",
       "      <th>3</th>\n",
       "      <td>2019-04-24</td>\n",
       "      <td>fill_out</td>\n",
       "      <td>form_fill</td>\n",
       "      <td>5975401237816306305</td>\n",
       "    </tr>\n",
       "    <tr>\n",
       "      <th>4</th>\n",
       "      <td>2019-04-24</td>\n",
       "      <td>fill_out</td>\n",
       "      <td>form_fill</td>\n",
       "      <td>3743028858149856355</td>\n",
       "    </tr>\n",
       "  </tbody>\n",
       "</table>\n",
       "</div>"
      ],
      "text/plain": [
       "         date activity_action    activity_type           contact_id\n",
       "0  2019-04-24            view  known_web_visit  4108398267771616228\n",
       "1  2019-04-24            view  known_web_visit  1615093602351989804\n",
       "2  2019-04-24            view  known_web_visit  8031730183355860699\n",
       "3  2019-04-24        fill_out        form_fill  5975401237816306305\n",
       "4  2019-04-24        fill_out        form_fill  3743028858149856355"
      ]
     },
     "execution_count": 7,
     "metadata": {},
     "output_type": "execute_result"
    }
   ],
   "source": [
    "events = pd.read_csv('events.csv')\n",
    "events.head()"
   ]
  },
  {
   "cell_type": "code",
   "execution_count": 8,
   "metadata": {},
   "outputs": [
    {
     "data": {
      "text/plain": [
       "(111525, 4)"
      ]
     },
     "execution_count": 8,
     "metadata": {},
     "output_type": "execute_result"
    }
   ],
   "source": [
    "events.shape"
   ]
  },
  {
   "cell_type": "code",
   "execution_count": 9,
   "metadata": {},
   "outputs": [
    {
     "data": {
      "text/plain": [
       "view                  36547\n",
       "open                  29646\n",
       "fill_out              19870\n",
       "click                 13464\n",
       "filled_out_form       11789\n",
       "attended_in_person      209\n",
       "Name: activity_action, dtype: int64"
      ]
     },
     "execution_count": 9,
     "metadata": {},
     "output_type": "execute_result"
    }
   ],
   "source": [
    "events.activity_action.value_counts()"
   ]
  },
  {
   "cell_type": "code",
   "execution_count": 10,
   "metadata": {},
   "outputs": [
    {
     "data": {
      "text/plain": [
       "known_web_visit    36547\n",
       "form_fill          31659\n",
       "email_open         29646\n",
       "email_click        13464\n",
       "attended_event       209\n",
       "Name: activity_type, dtype: int64"
      ]
     },
     "execution_count": 10,
     "metadata": {},
     "output_type": "execute_result"
    }
   ],
   "source": [
    "events.activity_type.value_counts()"
   ]
  },
  {
   "cell_type": "code",
   "execution_count": 11,
   "metadata": {},
   "outputs": [
    {
     "data": {
      "text/html": [
       "<div>\n",
       "<style scoped>\n",
       "    .dataframe tbody tr th:only-of-type {\n",
       "        vertical-align: middle;\n",
       "    }\n",
       "\n",
       "    .dataframe tbody tr th {\n",
       "        vertical-align: top;\n",
       "    }\n",
       "\n",
       "    .dataframe thead th {\n",
       "        text-align: right;\n",
       "    }\n",
       "</style>\n",
       "<table border=\"1\" class=\"dataframe\">\n",
       "  <thead>\n",
       "    <tr style=\"text-align: right;\">\n",
       "      <th></th>\n",
       "      <th>company_id</th>\n",
       "      <th>created_date</th>\n",
       "    </tr>\n",
       "  </thead>\n",
       "  <tbody>\n",
       "    <tr>\n",
       "      <th>0</th>\n",
       "      <td>73813c646290a71</td>\n",
       "      <td>2019-10-30</td>\n",
       "    </tr>\n",
       "    <tr>\n",
       "      <th>1</th>\n",
       "      <td>779be5c06f90563</td>\n",
       "      <td>2019-10-18</td>\n",
       "    </tr>\n",
       "    <tr>\n",
       "      <th>2</th>\n",
       "      <td>819d511f53f2ffd</td>\n",
       "      <td>2019-07-08</td>\n",
       "    </tr>\n",
       "    <tr>\n",
       "      <th>3</th>\n",
       "      <td>a2f1338863c2991</td>\n",
       "      <td>2019-08-09</td>\n",
       "    </tr>\n",
       "    <tr>\n",
       "      <th>4</th>\n",
       "      <td>2ddff3202da56e0</td>\n",
       "      <td>2019-09-23</td>\n",
       "    </tr>\n",
       "  </tbody>\n",
       "</table>\n",
       "</div>"
      ],
      "text/plain": [
       "        company_id created_date\n",
       "0  73813c646290a71   2019-10-30\n",
       "1  779be5c06f90563   2019-10-18\n",
       "2  819d511f53f2ffd   2019-07-08\n",
       "3  a2f1338863c2991   2019-08-09\n",
       "4  2ddff3202da56e0   2019-09-23"
      ]
     },
     "execution_count": 11,
     "metadata": {},
     "output_type": "execute_result"
    }
   ],
   "source": [
    "opportunies = pd.read_csv('opportunities.csv')\n",
    "opportunies.head()"
   ]
  },
  {
   "cell_type": "code",
   "execution_count": 12,
   "metadata": {},
   "outputs": [
    {
     "data": {
      "text/plain": [
       "(3213, 2)"
      ]
     },
     "execution_count": 12,
     "metadata": {},
     "output_type": "execute_result"
    }
   ],
   "source": [
    "opportunies.shape"
   ]
  },
  {
   "cell_type": "code",
   "execution_count": 13,
   "metadata": {},
   "outputs": [
    {
     "data": {
      "text/html": [
       "<div>\n",
       "<style scoped>\n",
       "    .dataframe tbody tr th:only-of-type {\n",
       "        vertical-align: middle;\n",
       "    }\n",
       "\n",
       "    .dataframe tbody tr th {\n",
       "        vertical-align: top;\n",
       "    }\n",
       "\n",
       "    .dataframe thead th {\n",
       "        text-align: right;\n",
       "    }\n",
       "</style>\n",
       "<table border=\"1\" class=\"dataframe\">\n",
       "  <thead>\n",
       "    <tr style=\"text-align: right;\">\n",
       "      <th></th>\n",
       "      <th>job_level</th>\n",
       "      <th>job_function</th>\n",
       "      <th>company_id</th>\n",
       "      <th>contact_id</th>\n",
       "    </tr>\n",
       "  </thead>\n",
       "  <tbody>\n",
       "    <tr>\n",
       "      <th>0</th>\n",
       "      <td>Manager</td>\n",
       "      <td>Operations</td>\n",
       "      <td>b9870ba24bb001c</td>\n",
       "      <td>1607962447045298548</td>\n",
       "    </tr>\n",
       "    <tr>\n",
       "      <th>1</th>\n",
       "      <td>Staff</td>\n",
       "      <td>Operations</td>\n",
       "      <td>c621a5f1e6166a7</td>\n",
       "      <td>5027514905586639586</td>\n",
       "    </tr>\n",
       "    <tr>\n",
       "      <th>2</th>\n",
       "      <td>Staff</td>\n",
       "      <td>Information Technology</td>\n",
       "      <td>dbd256e1136d4c9</td>\n",
       "      <td>3341080993372923602</td>\n",
       "    </tr>\n",
       "    <tr>\n",
       "      <th>3</th>\n",
       "      <td>Staff</td>\n",
       "      <td>Product Management</td>\n",
       "      <td>fc9d9436161e0b2</td>\n",
       "      <td>6701017887638098845</td>\n",
       "    </tr>\n",
       "    <tr>\n",
       "      <th>4</th>\n",
       "      <td>Manager</td>\n",
       "      <td>Finance</td>\n",
       "      <td>e7021bffb28cfb2</td>\n",
       "      <td>1711068408549891452</td>\n",
       "    </tr>\n",
       "  </tbody>\n",
       "</table>\n",
       "</div>"
      ],
      "text/plain": [
       "  job_level            job_function       company_id           contact_id\n",
       "0   Manager              Operations  b9870ba24bb001c  1607962447045298548\n",
       "1     Staff              Operations  c621a5f1e6166a7  5027514905586639586\n",
       "2     Staff  Information Technology  dbd256e1136d4c9  3341080993372923602\n",
       "3     Staff      Product Management  fc9d9436161e0b2  6701017887638098845\n",
       "4   Manager                 Finance  e7021bffb28cfb2  1711068408549891452"
      ]
     },
     "execution_count": 13,
     "metadata": {},
     "output_type": "execute_result"
    }
   ],
   "source": [
    "# who called\n",
    "people = pd.read_csv('people.csv')\n",
    "people.head()"
   ]
  },
  {
   "cell_type": "code",
   "execution_count": 14,
   "metadata": {},
   "outputs": [
    {
     "data": {
      "text/plain": [
       "(64429, 4)"
      ]
     },
     "execution_count": 14,
     "metadata": {},
     "output_type": "execute_result"
    }
   ],
   "source": [
    "people.shape"
   ]
  },
  {
   "cell_type": "code",
   "execution_count": 15,
   "metadata": {},
   "outputs": [
    {
     "data": {
      "text/plain": [
       "Director          13217\n",
       "Staff             12990\n",
       "C-Level            9376\n",
       "Manager            8200\n",
       "Other              7880\n",
       "Vice President     7805\n",
       "Senior             4961\n",
       "Name: job_level, dtype: int64"
      ]
     },
     "execution_count": 15,
     "metadata": {},
     "output_type": "execute_result"
    }
   ],
   "source": [
    "people.job_level.value_counts()"
   ]
  },
  {
   "cell_type": "code",
   "execution_count": 16,
   "metadata": {},
   "outputs": [
    {
     "data": {
      "text/plain": [
       "Engineering                       13646\n",
       "Other                              8256\n",
       "Product Management                 7545\n",
       "Management                         7076\n",
       "Information Technology             6153\n",
       "Business Development               4629\n",
       "Operations                         4106\n",
       "Finance                            2523\n",
       "Marketing                          2402\n",
       "Sales                              1584\n",
       "Customer Service & Support         1409\n",
       "Consulting                          932\n",
       "Human Resources                     703\n",
       "Arts and Design                     539\n",
       "Administrative                      539\n",
       "Media & Communications              432\n",
       "Healthcare Services                 431\n",
       "Education                           327\n",
       "Quality Assurance                   325\n",
       "Accounting                          293\n",
       "Legal                               253\n",
       "Purchasing                          243\n",
       "Real Estate                          48\n",
       "Military & Protective Services       35\n",
       "Name: job_function, dtype: int64"
      ]
     },
     "execution_count": 16,
     "metadata": {},
     "output_type": "execute_result"
    }
   ],
   "source": [
    "people.job_function.value_counts()"
   ]
  },
  {
   "cell_type": "markdown",
   "metadata": {},
   "source": [
    "<a id='1'></a>\n",
    "## Finding 1: Merge the table in a wrong way, duplicated contact_id"
   ]
  },
  {
   "cell_type": "code",
   "execution_count": 17,
   "metadata": {},
   "outputs": [
    {
     "data": {
      "text/html": [
       "<div>\n",
       "<style scoped>\n",
       "    .dataframe tbody tr th:only-of-type {\n",
       "        vertical-align: middle;\n",
       "    }\n",
       "\n",
       "    .dataframe tbody tr th {\n",
       "        vertical-align: top;\n",
       "    }\n",
       "\n",
       "    .dataframe thead th {\n",
       "        text-align: right;\n",
       "    }\n",
       "</style>\n",
       "<table border=\"1\" class=\"dataframe\">\n",
       "  <thead>\n",
       "    <tr style=\"text-align: right;\">\n",
       "      <th></th>\n",
       "      <th>date_x</th>\n",
       "      <th>call_disposition</th>\n",
       "      <th>contact_id</th>\n",
       "      <th>date_y</th>\n",
       "      <th>activity_action</th>\n",
       "      <th>activity_type</th>\n",
       "    </tr>\n",
       "  </thead>\n",
       "  <tbody>\n",
       "    <tr>\n",
       "      <th>0</th>\n",
       "      <td>2019-10-25</td>\n",
       "      <td>Left Voicemail</td>\n",
       "      <td>8820954680632966332</td>\n",
       "      <td>NaN</td>\n",
       "      <td>NaN</td>\n",
       "      <td>NaN</td>\n",
       "    </tr>\n",
       "    <tr>\n",
       "      <th>1</th>\n",
       "      <td>2019-10-25</td>\n",
       "      <td>No Answer</td>\n",
       "      <td>8820954680632966332</td>\n",
       "      <td>NaN</td>\n",
       "      <td>NaN</td>\n",
       "      <td>NaN</td>\n",
       "    </tr>\n",
       "    <tr>\n",
       "      <th>2</th>\n",
       "      <td>2019-10-28</td>\n",
       "      <td>Call Back Later</td>\n",
       "      <td>9085041672616908600</td>\n",
       "      <td>NaN</td>\n",
       "      <td>NaN</td>\n",
       "      <td>NaN</td>\n",
       "    </tr>\n",
       "    <tr>\n",
       "      <th>3</th>\n",
       "      <td>2019-07-31</td>\n",
       "      <td>Bad Number</td>\n",
       "      <td>6174483391018071888</td>\n",
       "      <td>NaN</td>\n",
       "      <td>NaN</td>\n",
       "      <td>NaN</td>\n",
       "    </tr>\n",
       "    <tr>\n",
       "      <th>4</th>\n",
       "      <td>2019-09-26</td>\n",
       "      <td>No Answer</td>\n",
       "      <td>6174483391018071888</td>\n",
       "      <td>NaN</td>\n",
       "      <td>NaN</td>\n",
       "      <td>NaN</td>\n",
       "    </tr>\n",
       "    <tr>\n",
       "      <th>5</th>\n",
       "      <td>2019-09-26</td>\n",
       "      <td>No Answer</td>\n",
       "      <td>1848273219698443716</td>\n",
       "      <td>NaN</td>\n",
       "      <td>NaN</td>\n",
       "      <td>NaN</td>\n",
       "    </tr>\n",
       "    <tr>\n",
       "      <th>6</th>\n",
       "      <td>2019-09-26</td>\n",
       "      <td>No Answer</td>\n",
       "      <td>1848273219698443716</td>\n",
       "      <td>NaN</td>\n",
       "      <td>NaN</td>\n",
       "      <td>NaN</td>\n",
       "    </tr>\n",
       "    <tr>\n",
       "      <th>7</th>\n",
       "      <td>2019-12-16</td>\n",
       "      <td>No Answer</td>\n",
       "      <td>2860445931853436299</td>\n",
       "      <td>2019-11-13</td>\n",
       "      <td>view</td>\n",
       "      <td>known_web_visit</td>\n",
       "    </tr>\n",
       "    <tr>\n",
       "      <th>8</th>\n",
       "      <td>2019-12-16</td>\n",
       "      <td>No Answer</td>\n",
       "      <td>2860445931853436299</td>\n",
       "      <td>2019-11-18</td>\n",
       "      <td>open</td>\n",
       "      <td>email_open</td>\n",
       "    </tr>\n",
       "    <tr>\n",
       "      <th>9</th>\n",
       "      <td>2019-12-16</td>\n",
       "      <td>No Answer</td>\n",
       "      <td>2860445931853436299</td>\n",
       "      <td>2019-11-15</td>\n",
       "      <td>click</td>\n",
       "      <td>email_click</td>\n",
       "    </tr>\n",
       "  </tbody>\n",
       "</table>\n",
       "</div>"
      ],
      "text/plain": [
       "       date_x call_disposition           contact_id      date_y  \\\n",
       "0  2019-10-25   Left Voicemail  8820954680632966332         NaN   \n",
       "1  2019-10-25        No Answer  8820954680632966332         NaN   \n",
       "2  2019-10-28  Call Back Later  9085041672616908600         NaN   \n",
       "3  2019-07-31       Bad Number  6174483391018071888         NaN   \n",
       "4  2019-09-26        No Answer  6174483391018071888         NaN   \n",
       "5  2019-09-26        No Answer  1848273219698443716         NaN   \n",
       "6  2019-09-26        No Answer  1848273219698443716         NaN   \n",
       "7  2019-12-16        No Answer  2860445931853436299  2019-11-13   \n",
       "8  2019-12-16        No Answer  2860445931853436299  2019-11-18   \n",
       "9  2019-12-16        No Answer  2860445931853436299  2019-11-15   \n",
       "\n",
       "  activity_action    activity_type  \n",
       "0             NaN              NaN  \n",
       "1             NaN              NaN  \n",
       "2             NaN              NaN  \n",
       "3             NaN              NaN  \n",
       "4             NaN              NaN  \n",
       "5             NaN              NaN  \n",
       "6             NaN              NaN  \n",
       "7            view  known_web_visit  \n",
       "8            open       email_open  \n",
       "9           click      email_click  "
      ]
     },
     "execution_count": 17,
     "metadata": {},
     "output_type": "execute_result"
    }
   ],
   "source": [
    "calls.merge(events, on='contact_id', how='left').head(10)"
   ]
  },
  {
   "cell_type": "code",
   "execution_count": 18,
   "metadata": {},
   "outputs": [
    {
     "data": {
      "text/html": [
       "<div>\n",
       "<style scoped>\n",
       "    .dataframe tbody tr th:only-of-type {\n",
       "        vertical-align: middle;\n",
       "    }\n",
       "\n",
       "    .dataframe tbody tr th {\n",
       "        vertical-align: top;\n",
       "    }\n",
       "\n",
       "    .dataframe thead th {\n",
       "        text-align: right;\n",
       "    }\n",
       "</style>\n",
       "<table border=\"1\" class=\"dataframe\">\n",
       "  <thead>\n",
       "    <tr style=\"text-align: right;\">\n",
       "      <th></th>\n",
       "      <th>date</th>\n",
       "      <th>call_disposition</th>\n",
       "      <th>contact_id</th>\n",
       "    </tr>\n",
       "  </thead>\n",
       "  <tbody>\n",
       "    <tr>\n",
       "      <th>7</th>\n",
       "      <td>2019-12-16</td>\n",
       "      <td>No Answer</td>\n",
       "      <td>2860445931853436299</td>\n",
       "    </tr>\n",
       "    <tr>\n",
       "      <th>27386</th>\n",
       "      <td>2019-11-13</td>\n",
       "      <td>No Answer</td>\n",
       "      <td>2860445931853436299</td>\n",
       "    </tr>\n",
       "    <tr>\n",
       "      <th>27387</th>\n",
       "      <td>2019-11-13</td>\n",
       "      <td>No Answer</td>\n",
       "      <td>2860445931853436299</td>\n",
       "    </tr>\n",
       "    <tr>\n",
       "      <th>27388</th>\n",
       "      <td>2019-11-15</td>\n",
       "      <td>MC - MQL/QMA</td>\n",
       "      <td>2860445931853436299</td>\n",
       "    </tr>\n",
       "  </tbody>\n",
       "</table>\n",
       "</div>"
      ],
      "text/plain": [
       "             date call_disposition           contact_id\n",
       "7      2019-12-16        No Answer  2860445931853436299\n",
       "27386  2019-11-13        No Answer  2860445931853436299\n",
       "27387  2019-11-13        No Answer  2860445931853436299\n",
       "27388  2019-11-15     MC - MQL/QMA  2860445931853436299"
      ]
     },
     "execution_count": 18,
     "metadata": {},
     "output_type": "execute_result"
    }
   ],
   "source": [
    "#example to explain why\n",
    "calls.query('contact_id == 2860445931853436299')"
   ]
  },
  {
   "cell_type": "code",
   "execution_count": 19,
   "metadata": {},
   "outputs": [
    {
     "data": {
      "text/html": [
       "<div>\n",
       "<style scoped>\n",
       "    .dataframe tbody tr th:only-of-type {\n",
       "        vertical-align: middle;\n",
       "    }\n",
       "\n",
       "    .dataframe tbody tr th {\n",
       "        vertical-align: top;\n",
       "    }\n",
       "\n",
       "    .dataframe thead th {\n",
       "        text-align: right;\n",
       "    }\n",
       "</style>\n",
       "<table border=\"1\" class=\"dataframe\">\n",
       "  <thead>\n",
       "    <tr style=\"text-align: right;\">\n",
       "      <th></th>\n",
       "      <th>date</th>\n",
       "      <th>activity_action</th>\n",
       "      <th>activity_type</th>\n",
       "      <th>contact_id</th>\n",
       "    </tr>\n",
       "  </thead>\n",
       "  <tbody>\n",
       "    <tr>\n",
       "      <th>4554</th>\n",
       "      <td>2019-11-13</td>\n",
       "      <td>view</td>\n",
       "      <td>known_web_visit</td>\n",
       "      <td>2860445931853436299</td>\n",
       "    </tr>\n",
       "    <tr>\n",
       "      <th>12602</th>\n",
       "      <td>2019-11-18</td>\n",
       "      <td>open</td>\n",
       "      <td>email_open</td>\n",
       "      <td>2860445931853436299</td>\n",
       "    </tr>\n",
       "    <tr>\n",
       "      <th>18874</th>\n",
       "      <td>2019-11-15</td>\n",
       "      <td>click</td>\n",
       "      <td>email_click</td>\n",
       "      <td>2860445931853436299</td>\n",
       "    </tr>\n",
       "    <tr>\n",
       "      <th>23288</th>\n",
       "      <td>2019-12-04</td>\n",
       "      <td>click</td>\n",
       "      <td>email_click</td>\n",
       "      <td>2860445931853436299</td>\n",
       "    </tr>\n",
       "    <tr>\n",
       "      <th>32547</th>\n",
       "      <td>2019-11-13</td>\n",
       "      <td>open</td>\n",
       "      <td>email_open</td>\n",
       "      <td>2860445931853436299</td>\n",
       "    </tr>\n",
       "    <tr>\n",
       "      <th>33425</th>\n",
       "      <td>2019-11-18</td>\n",
       "      <td>click</td>\n",
       "      <td>email_click</td>\n",
       "      <td>2860445931853436299</td>\n",
       "    </tr>\n",
       "    <tr>\n",
       "      <th>46758</th>\n",
       "      <td>2019-11-13</td>\n",
       "      <td>fill_out</td>\n",
       "      <td>form_fill</td>\n",
       "      <td>2860445931853436299</td>\n",
       "    </tr>\n",
       "  </tbody>\n",
       "</table>\n",
       "</div>"
      ],
      "text/plain": [
       "             date activity_action    activity_type           contact_id\n",
       "4554   2019-11-13            view  known_web_visit  2860445931853436299\n",
       "12602  2019-11-18            open       email_open  2860445931853436299\n",
       "18874  2019-11-15           click      email_click  2860445931853436299\n",
       "23288  2019-12-04           click      email_click  2860445931853436299\n",
       "32547  2019-11-13            open       email_open  2860445931853436299\n",
       "33425  2019-11-18           click      email_click  2860445931853436299\n",
       "46758  2019-11-13        fill_out        form_fill  2860445931853436299"
      ]
     },
     "execution_count": 19,
     "metadata": {},
     "output_type": "execute_result"
    }
   ],
   "source": [
    "events.query('contact_id == 2860445931853436299')"
   ]
  },
  {
   "cell_type": "code",
   "execution_count": 20,
   "metadata": {},
   "outputs": [
    {
     "data": {
      "text/html": [
       "<div>\n",
       "<style scoped>\n",
       "    .dataframe tbody tr th:only-of-type {\n",
       "        vertical-align: middle;\n",
       "    }\n",
       "\n",
       "    .dataframe tbody tr th {\n",
       "        vertical-align: top;\n",
       "    }\n",
       "\n",
       "    .dataframe thead th {\n",
       "        text-align: right;\n",
       "    }\n",
       "</style>\n",
       "<table border=\"1\" class=\"dataframe\">\n",
       "  <thead>\n",
       "    <tr style=\"text-align: right;\">\n",
       "      <th></th>\n",
       "      <th>date_x</th>\n",
       "      <th>call_disposition</th>\n",
       "      <th>contact_id</th>\n",
       "      <th>date_y</th>\n",
       "      <th>activity_action</th>\n",
       "      <th>activity_type</th>\n",
       "    </tr>\n",
       "  </thead>\n",
       "  <tbody>\n",
       "    <tr>\n",
       "      <th>7</th>\n",
       "      <td>2019-12-16</td>\n",
       "      <td>No Answer</td>\n",
       "      <td>2860445931853436299</td>\n",
       "      <td>2019-11-13</td>\n",
       "      <td>view</td>\n",
       "      <td>known_web_visit</td>\n",
       "    </tr>\n",
       "    <tr>\n",
       "      <th>8</th>\n",
       "      <td>2019-12-16</td>\n",
       "      <td>No Answer</td>\n",
       "      <td>2860445931853436299</td>\n",
       "      <td>2019-11-18</td>\n",
       "      <td>open</td>\n",
       "      <td>email_open</td>\n",
       "    </tr>\n",
       "    <tr>\n",
       "      <th>9</th>\n",
       "      <td>2019-12-16</td>\n",
       "      <td>No Answer</td>\n",
       "      <td>2860445931853436299</td>\n",
       "      <td>2019-11-15</td>\n",
       "      <td>click</td>\n",
       "      <td>email_click</td>\n",
       "    </tr>\n",
       "    <tr>\n",
       "      <th>10</th>\n",
       "      <td>2019-12-16</td>\n",
       "      <td>No Answer</td>\n",
       "      <td>2860445931853436299</td>\n",
       "      <td>2019-12-04</td>\n",
       "      <td>click</td>\n",
       "      <td>email_click</td>\n",
       "    </tr>\n",
       "    <tr>\n",
       "      <th>11</th>\n",
       "      <td>2019-12-16</td>\n",
       "      <td>No Answer</td>\n",
       "      <td>2860445931853436299</td>\n",
       "      <td>2019-11-13</td>\n",
       "      <td>open</td>\n",
       "      <td>email_open</td>\n",
       "    </tr>\n",
       "    <tr>\n",
       "      <th>12</th>\n",
       "      <td>2019-12-16</td>\n",
       "      <td>No Answer</td>\n",
       "      <td>2860445931853436299</td>\n",
       "      <td>2019-11-18</td>\n",
       "      <td>click</td>\n",
       "      <td>email_click</td>\n",
       "    </tr>\n",
       "    <tr>\n",
       "      <th>13</th>\n",
       "      <td>2019-12-16</td>\n",
       "      <td>No Answer</td>\n",
       "      <td>2860445931853436299</td>\n",
       "      <td>2019-11-13</td>\n",
       "      <td>fill_out</td>\n",
       "      <td>form_fill</td>\n",
       "    </tr>\n",
       "    <tr>\n",
       "      <th>76392</th>\n",
       "      <td>2019-11-13</td>\n",
       "      <td>No Answer</td>\n",
       "      <td>2860445931853436299</td>\n",
       "      <td>2019-11-13</td>\n",
       "      <td>view</td>\n",
       "      <td>known_web_visit</td>\n",
       "    </tr>\n",
       "    <tr>\n",
       "      <th>76393</th>\n",
       "      <td>2019-11-13</td>\n",
       "      <td>No Answer</td>\n",
       "      <td>2860445931853436299</td>\n",
       "      <td>2019-11-18</td>\n",
       "      <td>open</td>\n",
       "      <td>email_open</td>\n",
       "    </tr>\n",
       "    <tr>\n",
       "      <th>76394</th>\n",
       "      <td>2019-11-13</td>\n",
       "      <td>No Answer</td>\n",
       "      <td>2860445931853436299</td>\n",
       "      <td>2019-11-15</td>\n",
       "      <td>click</td>\n",
       "      <td>email_click</td>\n",
       "    </tr>\n",
       "    <tr>\n",
       "      <th>76395</th>\n",
       "      <td>2019-11-13</td>\n",
       "      <td>No Answer</td>\n",
       "      <td>2860445931853436299</td>\n",
       "      <td>2019-12-04</td>\n",
       "      <td>click</td>\n",
       "      <td>email_click</td>\n",
       "    </tr>\n",
       "    <tr>\n",
       "      <th>76396</th>\n",
       "      <td>2019-11-13</td>\n",
       "      <td>No Answer</td>\n",
       "      <td>2860445931853436299</td>\n",
       "      <td>2019-11-13</td>\n",
       "      <td>open</td>\n",
       "      <td>email_open</td>\n",
       "    </tr>\n",
       "    <tr>\n",
       "      <th>76397</th>\n",
       "      <td>2019-11-13</td>\n",
       "      <td>No Answer</td>\n",
       "      <td>2860445931853436299</td>\n",
       "      <td>2019-11-18</td>\n",
       "      <td>click</td>\n",
       "      <td>email_click</td>\n",
       "    </tr>\n",
       "    <tr>\n",
       "      <th>76398</th>\n",
       "      <td>2019-11-13</td>\n",
       "      <td>No Answer</td>\n",
       "      <td>2860445931853436299</td>\n",
       "      <td>2019-11-13</td>\n",
       "      <td>fill_out</td>\n",
       "      <td>form_fill</td>\n",
       "    </tr>\n",
       "    <tr>\n",
       "      <th>76399</th>\n",
       "      <td>2019-11-13</td>\n",
       "      <td>No Answer</td>\n",
       "      <td>2860445931853436299</td>\n",
       "      <td>2019-11-13</td>\n",
       "      <td>view</td>\n",
       "      <td>known_web_visit</td>\n",
       "    </tr>\n",
       "    <tr>\n",
       "      <th>76400</th>\n",
       "      <td>2019-11-13</td>\n",
       "      <td>No Answer</td>\n",
       "      <td>2860445931853436299</td>\n",
       "      <td>2019-11-18</td>\n",
       "      <td>open</td>\n",
       "      <td>email_open</td>\n",
       "    </tr>\n",
       "    <tr>\n",
       "      <th>76401</th>\n",
       "      <td>2019-11-13</td>\n",
       "      <td>No Answer</td>\n",
       "      <td>2860445931853436299</td>\n",
       "      <td>2019-11-15</td>\n",
       "      <td>click</td>\n",
       "      <td>email_click</td>\n",
       "    </tr>\n",
       "    <tr>\n",
       "      <th>76402</th>\n",
       "      <td>2019-11-13</td>\n",
       "      <td>No Answer</td>\n",
       "      <td>2860445931853436299</td>\n",
       "      <td>2019-12-04</td>\n",
       "      <td>click</td>\n",
       "      <td>email_click</td>\n",
       "    </tr>\n",
       "    <tr>\n",
       "      <th>76403</th>\n",
       "      <td>2019-11-13</td>\n",
       "      <td>No Answer</td>\n",
       "      <td>2860445931853436299</td>\n",
       "      <td>2019-11-13</td>\n",
       "      <td>open</td>\n",
       "      <td>email_open</td>\n",
       "    </tr>\n",
       "    <tr>\n",
       "      <th>76404</th>\n",
       "      <td>2019-11-13</td>\n",
       "      <td>No Answer</td>\n",
       "      <td>2860445931853436299</td>\n",
       "      <td>2019-11-18</td>\n",
       "      <td>click</td>\n",
       "      <td>email_click</td>\n",
       "    </tr>\n",
       "    <tr>\n",
       "      <th>76405</th>\n",
       "      <td>2019-11-13</td>\n",
       "      <td>No Answer</td>\n",
       "      <td>2860445931853436299</td>\n",
       "      <td>2019-11-13</td>\n",
       "      <td>fill_out</td>\n",
       "      <td>form_fill</td>\n",
       "    </tr>\n",
       "    <tr>\n",
       "      <th>76406</th>\n",
       "      <td>2019-11-15</td>\n",
       "      <td>MC - MQL/QMA</td>\n",
       "      <td>2860445931853436299</td>\n",
       "      <td>2019-11-13</td>\n",
       "      <td>view</td>\n",
       "      <td>known_web_visit</td>\n",
       "    </tr>\n",
       "    <tr>\n",
       "      <th>76407</th>\n",
       "      <td>2019-11-15</td>\n",
       "      <td>MC - MQL/QMA</td>\n",
       "      <td>2860445931853436299</td>\n",
       "      <td>2019-11-18</td>\n",
       "      <td>open</td>\n",
       "      <td>email_open</td>\n",
       "    </tr>\n",
       "    <tr>\n",
       "      <th>76408</th>\n",
       "      <td>2019-11-15</td>\n",
       "      <td>MC - MQL/QMA</td>\n",
       "      <td>2860445931853436299</td>\n",
       "      <td>2019-11-15</td>\n",
       "      <td>click</td>\n",
       "      <td>email_click</td>\n",
       "    </tr>\n",
       "    <tr>\n",
       "      <th>76409</th>\n",
       "      <td>2019-11-15</td>\n",
       "      <td>MC - MQL/QMA</td>\n",
       "      <td>2860445931853436299</td>\n",
       "      <td>2019-12-04</td>\n",
       "      <td>click</td>\n",
       "      <td>email_click</td>\n",
       "    </tr>\n",
       "    <tr>\n",
       "      <th>76410</th>\n",
       "      <td>2019-11-15</td>\n",
       "      <td>MC - MQL/QMA</td>\n",
       "      <td>2860445931853436299</td>\n",
       "      <td>2019-11-13</td>\n",
       "      <td>open</td>\n",
       "      <td>email_open</td>\n",
       "    </tr>\n",
       "    <tr>\n",
       "      <th>76411</th>\n",
       "      <td>2019-11-15</td>\n",
       "      <td>MC - MQL/QMA</td>\n",
       "      <td>2860445931853436299</td>\n",
       "      <td>2019-11-18</td>\n",
       "      <td>click</td>\n",
       "      <td>email_click</td>\n",
       "    </tr>\n",
       "    <tr>\n",
       "      <th>76412</th>\n",
       "      <td>2019-11-15</td>\n",
       "      <td>MC - MQL/QMA</td>\n",
       "      <td>2860445931853436299</td>\n",
       "      <td>2019-11-13</td>\n",
       "      <td>fill_out</td>\n",
       "      <td>form_fill</td>\n",
       "    </tr>\n",
       "  </tbody>\n",
       "</table>\n",
       "</div>"
      ],
      "text/plain": [
       "           date_x call_disposition           contact_id      date_y  \\\n",
       "7      2019-12-16        No Answer  2860445931853436299  2019-11-13   \n",
       "8      2019-12-16        No Answer  2860445931853436299  2019-11-18   \n",
       "9      2019-12-16        No Answer  2860445931853436299  2019-11-15   \n",
       "10     2019-12-16        No Answer  2860445931853436299  2019-12-04   \n",
       "11     2019-12-16        No Answer  2860445931853436299  2019-11-13   \n",
       "12     2019-12-16        No Answer  2860445931853436299  2019-11-18   \n",
       "13     2019-12-16        No Answer  2860445931853436299  2019-11-13   \n",
       "76392  2019-11-13        No Answer  2860445931853436299  2019-11-13   \n",
       "76393  2019-11-13        No Answer  2860445931853436299  2019-11-18   \n",
       "76394  2019-11-13        No Answer  2860445931853436299  2019-11-15   \n",
       "76395  2019-11-13        No Answer  2860445931853436299  2019-12-04   \n",
       "76396  2019-11-13        No Answer  2860445931853436299  2019-11-13   \n",
       "76397  2019-11-13        No Answer  2860445931853436299  2019-11-18   \n",
       "76398  2019-11-13        No Answer  2860445931853436299  2019-11-13   \n",
       "76399  2019-11-13        No Answer  2860445931853436299  2019-11-13   \n",
       "76400  2019-11-13        No Answer  2860445931853436299  2019-11-18   \n",
       "76401  2019-11-13        No Answer  2860445931853436299  2019-11-15   \n",
       "76402  2019-11-13        No Answer  2860445931853436299  2019-12-04   \n",
       "76403  2019-11-13        No Answer  2860445931853436299  2019-11-13   \n",
       "76404  2019-11-13        No Answer  2860445931853436299  2019-11-18   \n",
       "76405  2019-11-13        No Answer  2860445931853436299  2019-11-13   \n",
       "76406  2019-11-15     MC - MQL/QMA  2860445931853436299  2019-11-13   \n",
       "76407  2019-11-15     MC - MQL/QMA  2860445931853436299  2019-11-18   \n",
       "76408  2019-11-15     MC - MQL/QMA  2860445931853436299  2019-11-15   \n",
       "76409  2019-11-15     MC - MQL/QMA  2860445931853436299  2019-12-04   \n",
       "76410  2019-11-15     MC - MQL/QMA  2860445931853436299  2019-11-13   \n",
       "76411  2019-11-15     MC - MQL/QMA  2860445931853436299  2019-11-18   \n",
       "76412  2019-11-15     MC - MQL/QMA  2860445931853436299  2019-11-13   \n",
       "\n",
       "      activity_action    activity_type  \n",
       "7                view  known_web_visit  \n",
       "8                open       email_open  \n",
       "9               click      email_click  \n",
       "10              click      email_click  \n",
       "11               open       email_open  \n",
       "12              click      email_click  \n",
       "13           fill_out        form_fill  \n",
       "76392            view  known_web_visit  \n",
       "76393            open       email_open  \n",
       "76394           click      email_click  \n",
       "76395           click      email_click  \n",
       "76396            open       email_open  \n",
       "76397           click      email_click  \n",
       "76398        fill_out        form_fill  \n",
       "76399            view  known_web_visit  \n",
       "76400            open       email_open  \n",
       "76401           click      email_click  \n",
       "76402           click      email_click  \n",
       "76403            open       email_open  \n",
       "76404           click      email_click  \n",
       "76405        fill_out        form_fill  \n",
       "76406            view  known_web_visit  \n",
       "76407            open       email_open  \n",
       "76408           click      email_click  \n",
       "76409           click      email_click  \n",
       "76410            open       email_open  \n",
       "76411           click      email_click  \n",
       "76412        fill_out        form_fill  "
      ]
     },
     "execution_count": 20,
     "metadata": {},
     "output_type": "execute_result"
    }
   ],
   "source": [
    "calls.merge(events, on='contact_id', how='left').query('contact_id == 2860445931853436299')"
   ]
  },
  {
   "cell_type": "markdown",
   "metadata": {},
   "source": [
    "By the wrong merge way, there are more duplicated rows produced."
   ]
  },
  {
   "cell_type": "code",
   "execution_count": 21,
   "metadata": {},
   "outputs": [],
   "source": [
    "# calls.call_disposition.value_counts()"
   ]
  },
  {
   "cell_type": "code",
   "execution_count": 22,
   "metadata": {},
   "outputs": [],
   "source": [
    "# calls.groupby(['contact_id', 'date', 'call_disposition']).count()"
   ]
  },
  {
   "cell_type": "markdown",
   "metadata": {},
   "source": [
    "<a id='2'></a>\n",
    "## Finding 2: The most activities (194 times) company did not pick up 5 phone calls. "
   ]
  },
  {
   "cell_type": "code",
   "execution_count": 23,
   "metadata": {},
   "outputs": [
    {
     "data": {
      "text/html": [
       "<div>\n",
       "<style scoped>\n",
       "    .dataframe tbody tr th:only-of-type {\n",
       "        vertical-align: middle;\n",
       "    }\n",
       "\n",
       "    .dataframe tbody tr th {\n",
       "        vertical-align: top;\n",
       "    }\n",
       "\n",
       "    .dataframe thead th {\n",
       "        text-align: right;\n",
       "    }\n",
       "</style>\n",
       "<table border=\"1\" class=\"dataframe\">\n",
       "  <thead>\n",
       "    <tr style=\"text-align: right;\">\n",
       "      <th></th>\n",
       "      <th>contact_id</th>\n",
       "      <th>activity_action</th>\n",
       "    </tr>\n",
       "  </thead>\n",
       "  <tbody>\n",
       "    <tr>\n",
       "      <th>0</th>\n",
       "      <td>7505295075260161764</td>\n",
       "      <td>194</td>\n",
       "    </tr>\n",
       "    <tr>\n",
       "      <th>1</th>\n",
       "      <td>6357049929604753860</td>\n",
       "      <td>180</td>\n",
       "    </tr>\n",
       "    <tr>\n",
       "      <th>2</th>\n",
       "      <td>2323650454700737097</td>\n",
       "      <td>147</td>\n",
       "    </tr>\n",
       "    <tr>\n",
       "      <th>3</th>\n",
       "      <td>5610714029673303456</td>\n",
       "      <td>143</td>\n",
       "    </tr>\n",
       "    <tr>\n",
       "      <th>4</th>\n",
       "      <td>5873495652945372648</td>\n",
       "      <td>143</td>\n",
       "    </tr>\n",
       "    <tr>\n",
       "      <th>...</th>\n",
       "      <td>...</td>\n",
       "      <td>...</td>\n",
       "    </tr>\n",
       "    <tr>\n",
       "      <th>22246</th>\n",
       "      <td>5093462128937294245</td>\n",
       "      <td>1</td>\n",
       "    </tr>\n",
       "    <tr>\n",
       "      <th>22247</th>\n",
       "      <td>5090638181239071626</td>\n",
       "      <td>1</td>\n",
       "    </tr>\n",
       "    <tr>\n",
       "      <th>22248</th>\n",
       "      <td>2754883680870950698</td>\n",
       "      <td>1</td>\n",
       "    </tr>\n",
       "    <tr>\n",
       "      <th>22249</th>\n",
       "      <td>8433994941758218844</td>\n",
       "      <td>1</td>\n",
       "    </tr>\n",
       "    <tr>\n",
       "      <th>22250</th>\n",
       "      <td>6481124583915345858</td>\n",
       "      <td>1</td>\n",
       "    </tr>\n",
       "  </tbody>\n",
       "</table>\n",
       "<p>22251 rows × 2 columns</p>\n",
       "</div>"
      ],
      "text/plain": [
       "                contact_id  activity_action\n",
       "0      7505295075260161764              194\n",
       "1      6357049929604753860              180\n",
       "2      2323650454700737097              147\n",
       "3      5610714029673303456              143\n",
       "4      5873495652945372648              143\n",
       "...                    ...              ...\n",
       "22246  5093462128937294245                1\n",
       "22247  5090638181239071626                1\n",
       "22248  2754883680870950698                1\n",
       "22249  8433994941758218844                1\n",
       "22250  6481124583915345858                1\n",
       "\n",
       "[22251 rows x 2 columns]"
      ]
     },
     "execution_count": 23,
     "metadata": {},
     "output_type": "execute_result"
    }
   ],
   "source": [
    "#sorted sum of the events for grouped id\n",
    "event_counts_by_id = events.groupby('contact_id').count().sort_values('date', ascending=False).reset_index().drop(['date','activity_type'], axis=1)\n",
    "event_counts_by_id"
   ]
  },
  {
   "cell_type": "code",
   "execution_count": 24,
   "metadata": {},
   "outputs": [
    {
     "data": {
      "text/html": [
       "<div>\n",
       "<style scoped>\n",
       "    .dataframe tbody tr th:only-of-type {\n",
       "        vertical-align: middle;\n",
       "    }\n",
       "\n",
       "    .dataframe tbody tr th {\n",
       "        vertical-align: top;\n",
       "    }\n",
       "\n",
       "    .dataframe thead th {\n",
       "        text-align: right;\n",
       "    }\n",
       "</style>\n",
       "<table border=\"1\" class=\"dataframe\">\n",
       "  <thead>\n",
       "    <tr style=\"text-align: right;\">\n",
       "      <th></th>\n",
       "      <th>date</th>\n",
       "      <th>call_disposition</th>\n",
       "      <th>contact_id</th>\n",
       "    </tr>\n",
       "  </thead>\n",
       "  <tbody>\n",
       "    <tr>\n",
       "      <th>41590</th>\n",
       "      <td>2019-08-20</td>\n",
       "      <td>No Answer</td>\n",
       "      <td>2323650454700737097</td>\n",
       "    </tr>\n",
       "    <tr>\n",
       "      <th>41591</th>\n",
       "      <td>2019-07-26</td>\n",
       "      <td>No Answer</td>\n",
       "      <td>2323650454700737097</td>\n",
       "    </tr>\n",
       "    <tr>\n",
       "      <th>41592</th>\n",
       "      <td>2019-09-10</td>\n",
       "      <td>No Answer</td>\n",
       "      <td>2323650454700737097</td>\n",
       "    </tr>\n",
       "    <tr>\n",
       "      <th>41593</th>\n",
       "      <td>2019-09-10</td>\n",
       "      <td>No Answer</td>\n",
       "      <td>2323650454700737097</td>\n",
       "    </tr>\n",
       "    <tr>\n",
       "      <th>41594</th>\n",
       "      <td>2019-07-25</td>\n",
       "      <td>Left Voicemail</td>\n",
       "      <td>2323650454700737097</td>\n",
       "    </tr>\n",
       "    <tr>\n",
       "      <th>41595</th>\n",
       "      <td>2019-07-25</td>\n",
       "      <td>No Answer</td>\n",
       "      <td>2323650454700737097</td>\n",
       "    </tr>\n",
       "    <tr>\n",
       "      <th>41596</th>\n",
       "      <td>2019-07-23</td>\n",
       "      <td>Left Voicemail</td>\n",
       "      <td>2323650454700737097</td>\n",
       "    </tr>\n",
       "    <tr>\n",
       "      <th>41597</th>\n",
       "      <td>2019-07-29</td>\n",
       "      <td>No Answer</td>\n",
       "      <td>2323650454700737097</td>\n",
       "    </tr>\n",
       "    <tr>\n",
       "      <th>41598</th>\n",
       "      <td>2019-09-19</td>\n",
       "      <td>Left Voicemail</td>\n",
       "      <td>2323650454700737097</td>\n",
       "    </tr>\n",
       "    <tr>\n",
       "      <th>41599</th>\n",
       "      <td>2019-09-04</td>\n",
       "      <td>No Answer</td>\n",
       "      <td>2323650454700737097</td>\n",
       "    </tr>\n",
       "    <tr>\n",
       "      <th>41600</th>\n",
       "      <td>2019-09-04</td>\n",
       "      <td>No Answer</td>\n",
       "      <td>2323650454700737097</td>\n",
       "    </tr>\n",
       "    <tr>\n",
       "      <th>41601</th>\n",
       "      <td>2019-08-20</td>\n",
       "      <td>No Answer</td>\n",
       "      <td>2323650454700737097</td>\n",
       "    </tr>\n",
       "    <tr>\n",
       "      <th>41602</th>\n",
       "      <td>2019-08-20</td>\n",
       "      <td>No Answer</td>\n",
       "      <td>2323650454700737097</td>\n",
       "    </tr>\n",
       "    <tr>\n",
       "      <th>41603</th>\n",
       "      <td>2019-07-30</td>\n",
       "      <td>MC - No Need</td>\n",
       "      <td>2323650454700737097</td>\n",
       "    </tr>\n",
       "    <tr>\n",
       "      <th>41604</th>\n",
       "      <td>2019-07-30</td>\n",
       "      <td>No Answer</td>\n",
       "      <td>2323650454700737097</td>\n",
       "    </tr>\n",
       "    <tr>\n",
       "      <th>41605</th>\n",
       "      <td>2019-07-30</td>\n",
       "      <td>No Answer</td>\n",
       "      <td>2323650454700737097</td>\n",
       "    </tr>\n",
       "    <tr>\n",
       "      <th>41606</th>\n",
       "      <td>2019-07-18</td>\n",
       "      <td>No Answer</td>\n",
       "      <td>2323650454700737097</td>\n",
       "    </tr>\n",
       "    <tr>\n",
       "      <th>41607</th>\n",
       "      <td>2019-08-22</td>\n",
       "      <td>No Answer</td>\n",
       "      <td>2323650454700737097</td>\n",
       "    </tr>\n",
       "    <tr>\n",
       "      <th>41608</th>\n",
       "      <td>2019-09-13</td>\n",
       "      <td>Left Voicemail</td>\n",
       "      <td>2323650454700737097</td>\n",
       "    </tr>\n",
       "    <tr>\n",
       "      <th>41609</th>\n",
       "      <td>2019-09-13</td>\n",
       "      <td>No Answer</td>\n",
       "      <td>2323650454700737097</td>\n",
       "    </tr>\n",
       "    <tr>\n",
       "      <th>41610</th>\n",
       "      <td>2019-07-22</td>\n",
       "      <td>No Answer</td>\n",
       "      <td>2323650454700737097</td>\n",
       "    </tr>\n",
       "    <tr>\n",
       "      <th>41611</th>\n",
       "      <td>2019-07-22</td>\n",
       "      <td>No Answer</td>\n",
       "      <td>2323650454700737097</td>\n",
       "    </tr>\n",
       "    <tr>\n",
       "      <th>41612</th>\n",
       "      <td>2019-07-22</td>\n",
       "      <td>No Answer</td>\n",
       "      <td>2323650454700737097</td>\n",
       "    </tr>\n",
       "    <tr>\n",
       "      <th>41613</th>\n",
       "      <td>2019-09-17</td>\n",
       "      <td>Left Voicemail</td>\n",
       "      <td>2323650454700737097</td>\n",
       "    </tr>\n",
       "    <tr>\n",
       "      <th>41614</th>\n",
       "      <td>2019-08-22</td>\n",
       "      <td>No Answer</td>\n",
       "      <td>2323650454700737097</td>\n",
       "    </tr>\n",
       "    <tr>\n",
       "      <th>41615</th>\n",
       "      <td>2019-08-22</td>\n",
       "      <td>No Answer</td>\n",
       "      <td>2323650454700737097</td>\n",
       "    </tr>\n",
       "    <tr>\n",
       "      <th>41616</th>\n",
       "      <td>2019-08-22</td>\n",
       "      <td>No Answer</td>\n",
       "      <td>2323650454700737097</td>\n",
       "    </tr>\n",
       "    <tr>\n",
       "      <th>41617</th>\n",
       "      <td>2019-10-11</td>\n",
       "      <td>No Answer</td>\n",
       "      <td>2323650454700737097</td>\n",
       "    </tr>\n",
       "    <tr>\n",
       "      <th>41618</th>\n",
       "      <td>2019-09-27</td>\n",
       "      <td>No Answer</td>\n",
       "      <td>2323650454700737097</td>\n",
       "    </tr>\n",
       "    <tr>\n",
       "      <th>41619</th>\n",
       "      <td>2019-09-27</td>\n",
       "      <td>No Answer</td>\n",
       "      <td>2323650454700737097</td>\n",
       "    </tr>\n",
       "    <tr>\n",
       "      <th>41620</th>\n",
       "      <td>2019-09-23</td>\n",
       "      <td>No Answer</td>\n",
       "      <td>2323650454700737097</td>\n",
       "    </tr>\n",
       "    <tr>\n",
       "      <th>41621</th>\n",
       "      <td>2019-09-23</td>\n",
       "      <td>No Answer</td>\n",
       "      <td>2323650454700737097</td>\n",
       "    </tr>\n",
       "  </tbody>\n",
       "</table>\n",
       "</div>"
      ],
      "text/plain": [
       "             date call_disposition           contact_id\n",
       "41590  2019-08-20        No Answer  2323650454700737097\n",
       "41591  2019-07-26        No Answer  2323650454700737097\n",
       "41592  2019-09-10        No Answer  2323650454700737097\n",
       "41593  2019-09-10        No Answer  2323650454700737097\n",
       "41594  2019-07-25   Left Voicemail  2323650454700737097\n",
       "41595  2019-07-25        No Answer  2323650454700737097\n",
       "41596  2019-07-23   Left Voicemail  2323650454700737097\n",
       "41597  2019-07-29        No Answer  2323650454700737097\n",
       "41598  2019-09-19   Left Voicemail  2323650454700737097\n",
       "41599  2019-09-04        No Answer  2323650454700737097\n",
       "41600  2019-09-04        No Answer  2323650454700737097\n",
       "41601  2019-08-20        No Answer  2323650454700737097\n",
       "41602  2019-08-20        No Answer  2323650454700737097\n",
       "41603  2019-07-30     MC - No Need  2323650454700737097\n",
       "41604  2019-07-30        No Answer  2323650454700737097\n",
       "41605  2019-07-30        No Answer  2323650454700737097\n",
       "41606  2019-07-18        No Answer  2323650454700737097\n",
       "41607  2019-08-22        No Answer  2323650454700737097\n",
       "41608  2019-09-13   Left Voicemail  2323650454700737097\n",
       "41609  2019-09-13        No Answer  2323650454700737097\n",
       "41610  2019-07-22        No Answer  2323650454700737097\n",
       "41611  2019-07-22        No Answer  2323650454700737097\n",
       "41612  2019-07-22        No Answer  2323650454700737097\n",
       "41613  2019-09-17   Left Voicemail  2323650454700737097\n",
       "41614  2019-08-22        No Answer  2323650454700737097\n",
       "41615  2019-08-22        No Answer  2323650454700737097\n",
       "41616  2019-08-22        No Answer  2323650454700737097\n",
       "41617  2019-10-11        No Answer  2323650454700737097\n",
       "41618  2019-09-27        No Answer  2323650454700737097\n",
       "41619  2019-09-27        No Answer  2323650454700737097\n",
       "41620  2019-09-23        No Answer  2323650454700737097\n",
       "41621  2019-09-23        No Answer  2323650454700737097"
      ]
     },
     "execution_count": 24,
     "metadata": {},
     "output_type": "execute_result"
    }
   ],
   "source": [
    "#the call response with most events company\n",
    "calls.query(\"contact_id == 2323650454700737097\")"
   ]
  },
  {
   "cell_type": "code",
   "execution_count": 25,
   "metadata": {},
   "outputs": [],
   "source": [
    "# calls.call_disposition.unique()"
   ]
  },
  {
   "cell_type": "markdown",
   "metadata": {},
   "source": [
    "<a id='3'></a>\n",
    "## Finding 3: Scatterplot Display"
   ]
  },
  {
   "cell_type": "markdown",
   "metadata": {},
   "source": [
    "### Important Step: Mapping the Positive Variables"
   ]
  },
  {
   "cell_type": "code",
   "execution_count": 26,
   "metadata": {},
   "outputs": [
    {
     "data": {
      "text/plain": [
       "No Answer                         314912\n",
       "Left Voicemail                     14671\n",
       "Bad Number                          7114\n",
       "Call Back Later                     6571\n",
       "MC - No Need                        5370\n",
       "MC - Meaningful Conversation        5138\n",
       "MC - MQL/QMA                        2598\n",
       "Left Live Message                   2415\n",
       "MC - No Timeline                    1836\n",
       "MC - Meeting Confirmation           1356\n",
       "MC - No Authority                   1129\n",
       "Wrong Point of Contact              1018\n",
       "No Longer w/ Company                 995\n",
       "Discovery Call Scheduled             981\n",
       "MC - No Budget                       476\n",
       "MC - No Technical Fit                293\n",
       "Voicemail- Left Voicemail Drop       186\n",
       "Call - No Answer                      38\n",
       "MC - Call Back                         1\n",
       "Name: call_disposition, dtype: int64"
      ]
     },
     "execution_count": 26,
     "metadata": {},
     "output_type": "execute_result"
    }
   ],
   "source": [
    "calls.call_disposition.value_counts()"
   ]
  },
  {
   "cell_type": "code",
   "execution_count": 27,
   "metadata": {},
   "outputs": [],
   "source": [
    "#if positive responses return 1 in call_disposition column\n",
    "def get_pos(x):\n",
    "    if x == 'MC - Meaningful Conversation':\n",
    "        return 1\n",
    "    elif x == 'MC - Meeting Confirmation':\n",
    "        return 1\n",
    "    elif x == 'MC - MQL/QMA':\n",
    "        return 1\n",
    "    elif x == 'MC - No Need':\n",
    "        return 1\n",
    "    elif x == 'MC - No Authority':\n",
    "        return 1\n",
    "    elif x == 'MC - No Budget':\n",
    "        return 1\n",
    "    elif x == 'MC - No Timeline':\n",
    "        return 1\n",
    "    elif x == 'MC - No Technical Fit':\n",
    "        return 1\n",
    "    elif x == 'MC - Call Back':\n",
    "        return 1\n",
    "    else:\n",
    "        return 0"
   ]
  },
  {
   "cell_type": "code",
   "execution_count": 28,
   "metadata": {},
   "outputs": [
    {
     "data": {
      "text/html": [
       "<div>\n",
       "<style scoped>\n",
       "    .dataframe tbody tr th:only-of-type {\n",
       "        vertical-align: middle;\n",
       "    }\n",
       "\n",
       "    .dataframe tbody tr th {\n",
       "        vertical-align: top;\n",
       "    }\n",
       "\n",
       "    .dataframe thead th {\n",
       "        text-align: right;\n",
       "    }\n",
       "</style>\n",
       "<table border=\"1\" class=\"dataframe\">\n",
       "  <thead>\n",
       "    <tr style=\"text-align: right;\">\n",
       "      <th></th>\n",
       "      <th>contact_id</th>\n",
       "      <th>call_disposition</th>\n",
       "    </tr>\n",
       "  </thead>\n",
       "  <tbody>\n",
       "    <tr>\n",
       "      <th>0</th>\n",
       "      <td>166566594430710</td>\n",
       "      <td>0</td>\n",
       "    </tr>\n",
       "    <tr>\n",
       "      <th>1</th>\n",
       "      <td>266253115414781</td>\n",
       "      <td>0</td>\n",
       "    </tr>\n",
       "    <tr>\n",
       "      <th>2</th>\n",
       "      <td>638342195131369</td>\n",
       "      <td>0</td>\n",
       "    </tr>\n",
       "    <tr>\n",
       "      <th>3</th>\n",
       "      <td>958870857640301</td>\n",
       "      <td>0</td>\n",
       "    </tr>\n",
       "    <tr>\n",
       "      <th>4</th>\n",
       "      <td>1005177608297129</td>\n",
       "      <td>0</td>\n",
       "    </tr>\n",
       "  </tbody>\n",
       "</table>\n",
       "</div>"
      ],
      "text/plain": [
       "         contact_id  call_disposition\n",
       "0   166566594430710                 0\n",
       "1   266253115414781                 0\n",
       "2   638342195131369                 0\n",
       "3   958870857640301                 0\n",
       "4  1005177608297129                 0"
      ]
     },
     "execution_count": 28,
     "metadata": {},
     "output_type": "execute_result"
    }
   ],
   "source": [
    "#sum up the positive responses to call_disposition\n",
    "calls_temp = calls.copy()\n",
    "calls_temp.call_disposition = calls_temp.call_disposition.apply(get_pos)\n",
    "calls_temp = calls_temp.drop('date', axis=1).groupby('contact_id').sum().reset_index()\n",
    "calls_temp.head()"
   ]
  },
  {
   "cell_type": "code",
   "execution_count": 29,
   "metadata": {},
   "outputs": [
    {
     "data": {
      "text/plain": [
       "0     50517\n",
       "1     11434\n",
       "2      1915\n",
       "3       534\n",
       "4       160\n",
       "5        55\n",
       "6        27\n",
       "7         9\n",
       "9         3\n",
       "8         2\n",
       "11        2\n",
       "12        2\n",
       "19        1\n",
       "10        1\n",
       "13        1\n",
       "14        1\n",
       "18        1\n",
       "28        1\n",
       "Name: call_disposition, dtype: int64"
      ]
     },
     "execution_count": 29,
     "metadata": {},
     "output_type": "execute_result"
    }
   ],
   "source": [
    "# value counts for each positive responses\n",
    "calls_temp['call_disposition'].value_counts()"
   ]
  },
  {
   "cell_type": "code",
   "execution_count": 30,
   "metadata": {},
   "outputs": [],
   "source": [
    "# calls_temp[calls_temp['call_disposition'] > 0]\n",
    "# event_counts_by_id"
   ]
  },
  {
   "cell_type": "code",
   "execution_count": 31,
   "metadata": {},
   "outputs": [
    {
     "data": {
      "text/html": [
       "<div>\n",
       "<style scoped>\n",
       "    .dataframe tbody tr th:only-of-type {\n",
       "        vertical-align: middle;\n",
       "    }\n",
       "\n",
       "    .dataframe tbody tr th {\n",
       "        vertical-align: top;\n",
       "    }\n",
       "\n",
       "    .dataframe thead th {\n",
       "        text-align: right;\n",
       "    }\n",
       "</style>\n",
       "<table border=\"1\" class=\"dataframe\">\n",
       "  <thead>\n",
       "    <tr style=\"text-align: right;\">\n",
       "      <th></th>\n",
       "      <th>contact_id</th>\n",
       "      <th>call_disposition</th>\n",
       "      <th>activity_action</th>\n",
       "    </tr>\n",
       "  </thead>\n",
       "  <tbody>\n",
       "    <tr>\n",
       "      <th>5</th>\n",
       "      <td>1087052746460939</td>\n",
       "      <td>0</td>\n",
       "      <td>4.0</td>\n",
       "    </tr>\n",
       "    <tr>\n",
       "      <th>9</th>\n",
       "      <td>1725649318096176</td>\n",
       "      <td>1</td>\n",
       "      <td>2.0</td>\n",
       "    </tr>\n",
       "    <tr>\n",
       "      <th>13</th>\n",
       "      <td>2172390189079170</td>\n",
       "      <td>1</td>\n",
       "      <td>2.0</td>\n",
       "    </tr>\n",
       "    <tr>\n",
       "      <th>14</th>\n",
       "      <td>2281871236130720</td>\n",
       "      <td>0</td>\n",
       "      <td>1.0</td>\n",
       "    </tr>\n",
       "    <tr>\n",
       "      <th>15</th>\n",
       "      <td>2497165314871410</td>\n",
       "      <td>0</td>\n",
       "      <td>7.0</td>\n",
       "    </tr>\n",
       "    <tr>\n",
       "      <th>...</th>\n",
       "      <td>...</td>\n",
       "      <td>...</td>\n",
       "      <td>...</td>\n",
       "    </tr>\n",
       "    <tr>\n",
       "      <th>64650</th>\n",
       "      <td>9220737175662006854</td>\n",
       "      <td>1</td>\n",
       "      <td>2.0</td>\n",
       "    </tr>\n",
       "    <tr>\n",
       "      <th>64651</th>\n",
       "      <td>9220988583412404301</td>\n",
       "      <td>0</td>\n",
       "      <td>19.0</td>\n",
       "    </tr>\n",
       "    <tr>\n",
       "      <th>64654</th>\n",
       "      <td>9221365981464707787</td>\n",
       "      <td>1</td>\n",
       "      <td>2.0</td>\n",
       "    </tr>\n",
       "    <tr>\n",
       "      <th>64655</th>\n",
       "      <td>9221691394698869671</td>\n",
       "      <td>1</td>\n",
       "      <td>11.0</td>\n",
       "    </tr>\n",
       "    <tr>\n",
       "      <th>64665</th>\n",
       "      <td>9222528303702428283</td>\n",
       "      <td>0</td>\n",
       "      <td>2.0</td>\n",
       "    </tr>\n",
       "  </tbody>\n",
       "</table>\n",
       "<p>22251 rows × 3 columns</p>\n",
       "</div>"
      ],
      "text/plain": [
       "                contact_id  call_disposition  activity_action\n",
       "5         1087052746460939                 0              4.0\n",
       "9         1725649318096176                 1              2.0\n",
       "13        2172390189079170                 1              2.0\n",
       "14        2281871236130720                 0              1.0\n",
       "15        2497165314871410                 0              7.0\n",
       "...                    ...               ...              ...\n",
       "64650  9220737175662006854                 1              2.0\n",
       "64651  9220988583412404301                 0             19.0\n",
       "64654  9221365981464707787                 1              2.0\n",
       "64655  9221691394698869671                 1             11.0\n",
       "64665  9222528303702428283                 0              2.0\n",
       "\n",
       "[22251 rows x 3 columns]"
      ]
     },
     "execution_count": 31,
     "metadata": {},
     "output_type": "execute_result"
    }
   ],
   "source": [
    "#find out the relationship between call response and events times\n",
    "#combine call and events table\n",
    "combined = calls_temp.merge(event_counts_by_id, on='contact_id', how='left')\n",
    "combined = combined.dropna()\n",
    "combined"
   ]
  },
  {
   "cell_type": "code",
   "execution_count": 32,
   "metadata": {},
   "outputs": [
    {
     "data": {
      "text/plain": [
       "0     13604\n",
       "1      6722\n",
       "2      1341\n",
       "3       396\n",
       "4       110\n",
       "5        48\n",
       "6        15\n",
       "7         9\n",
       "12        2\n",
       "13        1\n",
       "28        1\n",
       "8         1\n",
       "19        1\n",
       "Name: call_disposition, dtype: int64"
      ]
     },
     "execution_count": 32,
     "metadata": {},
     "output_type": "execute_result"
    }
   ],
   "source": [
    "combined['call_disposition'].value_counts()"
   ]
  },
  {
   "cell_type": "code",
   "execution_count": 33,
   "metadata": {},
   "outputs": [
    {
     "data": {
      "text/plain": [
       "8647"
      ]
     },
     "execution_count": 33,
     "metadata": {},
     "output_type": "execute_result"
    }
   ],
   "source": [
    "combined[combined['call_disposition'] > 0].shape[0]"
   ]
  },
  {
   "cell_type": "code",
   "execution_count": 34,
   "metadata": {},
   "outputs": [
    {
     "data": {
      "text/plain": [
       "22251"
      ]
     },
     "execution_count": 34,
     "metadata": {},
     "output_type": "execute_result"
    }
   ],
   "source": [
    "combined.shape[0]"
   ]
  },
  {
   "cell_type": "code",
   "execution_count": 35,
   "metadata": {},
   "outputs": [
    {
     "data": {
      "text/plain": [
       "0.38861174778661633"
      ]
     },
     "execution_count": 35,
     "metadata": {},
     "output_type": "execute_result"
    }
   ],
   "source": [
    "combined[combined['call_disposition'] > 0].shape[0] / combined.shape[0]"
   ]
  },
  {
   "cell_type": "markdown",
   "metadata": {},
   "source": [
    "We have 8647 positive responses over 22251 calls. Only 38.9% rows are meaningful conversation."
   ]
  },
  {
   "cell_type": "code",
   "execution_count": 36,
   "metadata": {},
   "outputs": [],
   "source": [
    "# calls.query(\"call_disposition == 'MC - Meaningful Conversation'\")"
   ]
  },
  {
   "cell_type": "code",
   "execution_count": 37,
   "metadata": {},
   "outputs": [
    {
     "data": {
      "image/png": "[encoded data removed]",
      "text/plain": [
       "<Figure size 864x576 with 1 Axes>"
      ]
     },
     "metadata": {
      "needs_background": "light"
     },
     "output_type": "display_data"
    }
   ],
   "source": [
    "#draw scatterplot \n",
    "plt.figure(figsize=(12,8))\n",
    "plt.scatter(combined.activity_action, combined.call_disposition)\n",
    "plt.title('The Relationship Between Counts of Events and Positive Response')\n",
    "plt.xlabel('Counts of Events (regardless of type)')\n",
    "plt.ylabel('Counts of Positive Responses')\n",
    "plt.show()"
   ]
  },
  {
   "cell_type": "markdown",
   "metadata": {},
   "source": [
    "Based on the scatterplot:\n",
    "1. Most companies have many counts of events and no positive responses.\n",
    "2. Only few of the companies have high positive responses.\n",
    "\n",
    "Suggestion:\n",
    "1. Train the employees working in the Call Center with people skills so that during call they can be more friendly and engaging.\n",
    "2. Maintain a tracker which reminds of follow-ups so that the representative can talk to the person again and try to convince them in purchasing 6sense product.\n",
    "5. Contact persons from the previous company who responded since they are more likely to buy their product.\n",
    "\n",
    "Similar Kaggle Sample:\n",
    "https://www.kaggle.com/loveall/cleaning-visualizing-and-modeling-cold-call-data"
   ]
  },
  {
   "cell_type": "code",
   "execution_count": null,
   "metadata": {},
   "outputs": [],
   "source": []
  },
  {
   "cell_type": "markdown",
   "metadata": {},
   "source": [
    "<a id='merge'></a>\n",
    "# Based on Time Frame"
   ]
  },
  {
   "cell_type": "markdown",
   "metadata": {},
   "source": [
    "### Time Frame on calls table"
   ]
  },
  {
   "cell_type": "code",
   "execution_count": 38,
   "metadata": {},
   "outputs": [
    {
     "data": {
      "text/plain": [
       "str"
      ]
     },
     "execution_count": 38,
     "metadata": {},
     "output_type": "execute_result"
    }
   ],
   "source": [
    "type(calls.date[0])"
   ]
  },
  {
   "cell_type": "code",
   "execution_count": 39,
   "metadata": {},
   "outputs": [
    {
     "data": {
      "text/html": [
       "<div>\n",
       "<style scoped>\n",
       "    .dataframe tbody tr th:only-of-type {\n",
       "        vertical-align: middle;\n",
       "    }\n",
       "\n",
       "    .dataframe tbody tr th {\n",
       "        vertical-align: top;\n",
       "    }\n",
       "\n",
       "    .dataframe thead th {\n",
       "        text-align: right;\n",
       "    }\n",
       "</style>\n",
       "<table border=\"1\" class=\"dataframe\">\n",
       "  <thead>\n",
       "    <tr style=\"text-align: right;\">\n",
       "      <th></th>\n",
       "      <th>date</th>\n",
       "      <th>call_disposition</th>\n",
       "      <th>contact_id</th>\n",
       "    </tr>\n",
       "  </thead>\n",
       "  <tbody>\n",
       "    <tr>\n",
       "      <th>0</th>\n",
       "      <td>2019-10-25</td>\n",
       "      <td>Left Voicemail</td>\n",
       "      <td>8820954680632966332</td>\n",
       "    </tr>\n",
       "    <tr>\n",
       "      <th>1</th>\n",
       "      <td>2019-10-25</td>\n",
       "      <td>No Answer</td>\n",
       "      <td>8820954680632966332</td>\n",
       "    </tr>\n",
       "    <tr>\n",
       "      <th>2</th>\n",
       "      <td>2019-10-28</td>\n",
       "      <td>Call Back Later</td>\n",
       "      <td>9085041672616908600</td>\n",
       "    </tr>\n",
       "    <tr>\n",
       "      <th>3</th>\n",
       "      <td>2019-07-31</td>\n",
       "      <td>Bad Number</td>\n",
       "      <td>6174483391018071888</td>\n",
       "    </tr>\n",
       "    <tr>\n",
       "      <th>4</th>\n",
       "      <td>2019-09-26</td>\n",
       "      <td>No Answer</td>\n",
       "      <td>6174483391018071888</td>\n",
       "    </tr>\n",
       "    <tr>\n",
       "      <th>...</th>\n",
       "      <td>...</td>\n",
       "      <td>...</td>\n",
       "      <td>...</td>\n",
       "    </tr>\n",
       "    <tr>\n",
       "      <th>367093</th>\n",
       "      <td>2019-09-02</td>\n",
       "      <td>No Answer</td>\n",
       "      <td>557663644881937749</td>\n",
       "    </tr>\n",
       "    <tr>\n",
       "      <th>367094</th>\n",
       "      <td>2019-09-02</td>\n",
       "      <td>No Answer</td>\n",
       "      <td>557663644881937749</td>\n",
       "    </tr>\n",
       "    <tr>\n",
       "      <th>367095</th>\n",
       "      <td>2019-09-03</td>\n",
       "      <td>MC - MQL/QMA</td>\n",
       "      <td>557663644881937749</td>\n",
       "    </tr>\n",
       "    <tr>\n",
       "      <th>367096</th>\n",
       "      <td>2019-09-03</td>\n",
       "      <td>No Answer</td>\n",
       "      <td>557663644881937749</td>\n",
       "    </tr>\n",
       "    <tr>\n",
       "      <th>367097</th>\n",
       "      <td>2019-11-04</td>\n",
       "      <td>No Answer</td>\n",
       "      <td>557663644881937749</td>\n",
       "    </tr>\n",
       "  </tbody>\n",
       "</table>\n",
       "<p>367098 rows × 3 columns</p>\n",
       "</div>"
      ],
      "text/plain": [
       "             date call_disposition           contact_id\n",
       "0      2019-10-25   Left Voicemail  8820954680632966332\n",
       "1      2019-10-25        No Answer  8820954680632966332\n",
       "2      2019-10-28  Call Back Later  9085041672616908600\n",
       "3      2019-07-31       Bad Number  6174483391018071888\n",
       "4      2019-09-26        No Answer  6174483391018071888\n",
       "...           ...              ...                  ...\n",
       "367093 2019-09-02        No Answer   557663644881937749\n",
       "367094 2019-09-02        No Answer   557663644881937749\n",
       "367095 2019-09-03     MC - MQL/QMA   557663644881937749\n",
       "367096 2019-09-03        No Answer   557663644881937749\n",
       "367097 2019-11-04        No Answer   557663644881937749\n",
       "\n",
       "[367098 rows x 3 columns]"
      ]
     },
     "execution_count": 39,
     "metadata": {},
     "output_type": "execute_result"
    }
   ],
   "source": [
    "new_calls = calls.copy()\n",
    "new_calls['date'] = pd.to_datetime(new_calls['date'], format='%Y-%m-%d')\n",
    "new_calls"
   ]
  },
  {
   "cell_type": "code",
   "execution_count": 40,
   "metadata": {},
   "outputs": [],
   "source": [
    "#positive responses\n",
    "def get_pos(x):\n",
    "    if x == 'MC - Meaningful Conversation':\n",
    "        return 1\n",
    "    elif x == 'MC - Meeting Confirmation':\n",
    "        return 1\n",
    "    elif x == 'MC - MQL/QMA':\n",
    "        return 1\n",
    "    elif x == 'MC - No Need':\n",
    "        return 1\n",
    "    elif x == 'MC - No Authority':\n",
    "        return 1\n",
    "    elif x == 'MC - No Budget':\n",
    "        return 1\n",
    "    elif x == 'MC - No Timeline':\n",
    "        return 1\n",
    "    elif x == 'MC - No Technical Fit':\n",
    "        return 1\n",
    "    elif x == 'MC - Call Back':\n",
    "        return 1\n",
    "    else:\n",
    "        return 0"
   ]
  },
  {
   "cell_type": "code",
   "execution_count": 41,
   "metadata": {},
   "outputs": [
    {
     "data": {
      "text/html": [
       "<div>\n",
       "<style scoped>\n",
       "    .dataframe tbody tr th:only-of-type {\n",
       "        vertical-align: middle;\n",
       "    }\n",
       "\n",
       "    .dataframe tbody tr th {\n",
       "        vertical-align: top;\n",
       "    }\n",
       "\n",
       "    .dataframe thead th {\n",
       "        text-align: right;\n",
       "    }\n",
       "</style>\n",
       "<table border=\"1\" class=\"dataframe\">\n",
       "  <thead>\n",
       "    <tr style=\"text-align: right;\">\n",
       "      <th></th>\n",
       "      <th>contact_id</th>\n",
       "      <th>call_disposition</th>\n",
       "    </tr>\n",
       "  </thead>\n",
       "  <tbody>\n",
       "    <tr>\n",
       "      <th>0</th>\n",
       "      <td>866659017680622750</td>\n",
       "      <td>28</td>\n",
       "    </tr>\n",
       "    <tr>\n",
       "      <th>1</th>\n",
       "      <td>2974518792887422733</td>\n",
       "      <td>19</td>\n",
       "    </tr>\n",
       "    <tr>\n",
       "      <th>2</th>\n",
       "      <td>5689916162122230730</td>\n",
       "      <td>18</td>\n",
       "    </tr>\n",
       "    <tr>\n",
       "      <th>3</th>\n",
       "      <td>2563817588376783298</td>\n",
       "      <td>14</td>\n",
       "    </tr>\n",
       "    <tr>\n",
       "      <th>4</th>\n",
       "      <td>3831961766320141998</td>\n",
       "      <td>13</td>\n",
       "    </tr>\n",
       "  </tbody>\n",
       "</table>\n",
       "</div>"
      ],
      "text/plain": [
       "            contact_id  call_disposition\n",
       "0   866659017680622750                28\n",
       "1  2974518792887422733                19\n",
       "2  5689916162122230730                18\n",
       "3  2563817588376783298                14\n",
       "4  3831961766320141998                13"
      ]
     },
     "execution_count": 41,
     "metadata": {},
     "output_type": "execute_result"
    }
   ],
   "source": [
    "new_calls_disposition = new_calls.copy()\n",
    "new_calls_disposition.call_disposition = new_calls_disposition.call_disposition.apply(get_pos)\n",
    "new_calls_disposition = new_calls_disposition.drop('date', axis=1).groupby('contact_id').sum().sort_values('call_disposition', ascending=False).reset_index()\n",
    "new_calls_disposition.head()"
   ]
  },
  {
   "cell_type": "code",
   "execution_count": 42,
   "metadata": {},
   "outputs": [
    {
     "data": {
      "text/html": [
       "<div>\n",
       "<style scoped>\n",
       "    .dataframe tbody tr th:only-of-type {\n",
       "        vertical-align: middle;\n",
       "    }\n",
       "\n",
       "    .dataframe tbody tr th {\n",
       "        vertical-align: top;\n",
       "    }\n",
       "\n",
       "    .dataframe thead th {\n",
       "        text-align: right;\n",
       "    }\n",
       "</style>\n",
       "<table border=\"1\" class=\"dataframe\">\n",
       "  <thead>\n",
       "    <tr style=\"text-align: right;\">\n",
       "      <th></th>\n",
       "      <th>contact_id</th>\n",
       "      <th>date</th>\n",
       "    </tr>\n",
       "  </thead>\n",
       "  <tbody>\n",
       "    <tr>\n",
       "      <th>0</th>\n",
       "      <td>1788315889737511044</td>\n",
       "      <td>183 days</td>\n",
       "    </tr>\n",
       "    <tr>\n",
       "      <th>1</th>\n",
       "      <td>8468023606453927141</td>\n",
       "      <td>183 days</td>\n",
       "    </tr>\n",
       "    <tr>\n",
       "      <th>2</th>\n",
       "      <td>2680561098649963168</td>\n",
       "      <td>183 days</td>\n",
       "    </tr>\n",
       "    <tr>\n",
       "      <th>3</th>\n",
       "      <td>4197057779527445661</td>\n",
       "      <td>183 days</td>\n",
       "    </tr>\n",
       "    <tr>\n",
       "      <th>4</th>\n",
       "      <td>2540645441967285227</td>\n",
       "      <td>183 days</td>\n",
       "    </tr>\n",
       "    <tr>\n",
       "      <th>...</th>\n",
       "      <td>...</td>\n",
       "      <td>...</td>\n",
       "    </tr>\n",
       "    <tr>\n",
       "      <th>64661</th>\n",
       "      <td>6383302405961648920</td>\n",
       "      <td>0 days</td>\n",
       "    </tr>\n",
       "    <tr>\n",
       "      <th>64662</th>\n",
       "      <td>3020354175357105751</td>\n",
       "      <td>0 days</td>\n",
       "    </tr>\n",
       "    <tr>\n",
       "      <th>64663</th>\n",
       "      <td>6383079103058674949</td>\n",
       "      <td>0 days</td>\n",
       "    </tr>\n",
       "    <tr>\n",
       "      <th>64664</th>\n",
       "      <td>3020555656802007664</td>\n",
       "      <td>0 days</td>\n",
       "    </tr>\n",
       "    <tr>\n",
       "      <th>64665</th>\n",
       "      <td>9222528303702428283</td>\n",
       "      <td>0 days</td>\n",
       "    </tr>\n",
       "  </tbody>\n",
       "</table>\n",
       "<p>64666 rows × 2 columns</p>\n",
       "</div>"
      ],
      "text/plain": [
       "                contact_id     date\n",
       "0      1788315889737511044 183 days\n",
       "1      8468023606453927141 183 days\n",
       "2      2680561098649963168 183 days\n",
       "3      4197057779527445661 183 days\n",
       "4      2540645441967285227 183 days\n",
       "...                    ...      ...\n",
       "64661  6383302405961648920   0 days\n",
       "64662  3020354175357105751   0 days\n",
       "64663  6383079103058674949   0 days\n",
       "64664  3020555656802007664   0 days\n",
       "64665  9222528303702428283   0 days\n",
       "\n",
       "[64666 rows x 2 columns]"
      ]
     },
     "execution_count": 42,
     "metadata": {},
     "output_type": "execute_result"
    }
   ],
   "source": [
    "new_calls_time = new_calls.groupby(['contact_id']).agg(lambda x: max(x) - min(x)).sort_values('date', ascending=False).reset_index()\n",
    "new_calls_time"
   ]
  },
  {
   "cell_type": "code",
   "execution_count": 43,
   "metadata": {},
   "outputs": [
    {
     "data": {
      "text/html": [
       "<div>\n",
       "<style scoped>\n",
       "    .dataframe tbody tr th:only-of-type {\n",
       "        vertical-align: middle;\n",
       "    }\n",
       "\n",
       "    .dataframe tbody tr th {\n",
       "        vertical-align: top;\n",
       "    }\n",
       "\n",
       "    .dataframe thead th {\n",
       "        text-align: right;\n",
       "    }\n",
       "</style>\n",
       "<table border=\"1\" class=\"dataframe\">\n",
       "  <thead>\n",
       "    <tr style=\"text-align: right;\">\n",
       "      <th></th>\n",
       "      <th>date</th>\n",
       "      <th>call_disposition</th>\n",
       "      <th>contact_id</th>\n",
       "    </tr>\n",
       "  </thead>\n",
       "  <tbody>\n",
       "    <tr>\n",
       "      <th>281395</th>\n",
       "      <td>2019-12-30</td>\n",
       "      <td>No Answer</td>\n",
       "      <td>166566594430710</td>\n",
       "    </tr>\n",
       "    <tr>\n",
       "      <th>281396</th>\n",
       "      <td>2019-12-16</td>\n",
       "      <td>No Answer</td>\n",
       "      <td>166566594430710</td>\n",
       "    </tr>\n",
       "  </tbody>\n",
       "</table>\n",
       "</div>"
      ],
      "text/plain": [
       "             date call_disposition       contact_id\n",
       "281395 2019-12-30        No Answer  166566594430710\n",
       "281396 2019-12-16        No Answer  166566594430710"
      ]
     },
     "execution_count": 43,
     "metadata": {},
     "output_type": "execute_result"
    }
   ],
   "source": [
    "#double check if it is true\n",
    "new_calls.query('contact_id == 166566594430710')"
   ]
  },
  {
   "cell_type": "code",
   "execution_count": 44,
   "metadata": {},
   "outputs": [
    {
     "data": {
      "text/html": [
       "<div>\n",
       "<style scoped>\n",
       "    .dataframe tbody tr th:only-of-type {\n",
       "        vertical-align: middle;\n",
       "    }\n",
       "\n",
       "    .dataframe tbody tr th {\n",
       "        vertical-align: top;\n",
       "    }\n",
       "\n",
       "    .dataframe thead th {\n",
       "        text-align: right;\n",
       "    }\n",
       "</style>\n",
       "<table border=\"1\" class=\"dataframe\">\n",
       "  <thead>\n",
       "    <tr style=\"text-align: right;\">\n",
       "      <th></th>\n",
       "      <th>contact_id</th>\n",
       "      <th>call_disposition</th>\n",
       "      <th>date</th>\n",
       "    </tr>\n",
       "  </thead>\n",
       "  <tbody>\n",
       "    <tr>\n",
       "      <th>0</th>\n",
       "      <td>866659017680622750</td>\n",
       "      <td>28</td>\n",
       "      <td>131 days</td>\n",
       "    </tr>\n",
       "    <tr>\n",
       "      <th>1</th>\n",
       "      <td>2974518792887422733</td>\n",
       "      <td>19</td>\n",
       "      <td>103 days</td>\n",
       "    </tr>\n",
       "    <tr>\n",
       "      <th>2</th>\n",
       "      <td>5689916162122230730</td>\n",
       "      <td>18</td>\n",
       "      <td>156 days</td>\n",
       "    </tr>\n",
       "    <tr>\n",
       "      <th>3</th>\n",
       "      <td>2563817588376783298</td>\n",
       "      <td>14</td>\n",
       "      <td>106 days</td>\n",
       "    </tr>\n",
       "    <tr>\n",
       "      <th>4</th>\n",
       "      <td>3831961766320141998</td>\n",
       "      <td>13</td>\n",
       "      <td>87 days</td>\n",
       "    </tr>\n",
       "    <tr>\n",
       "      <th>...</th>\n",
       "      <td>...</td>\n",
       "      <td>...</td>\n",
       "      <td>...</td>\n",
       "    </tr>\n",
       "    <tr>\n",
       "      <th>64661</th>\n",
       "      <td>3471346052708762864</td>\n",
       "      <td>0</td>\n",
       "      <td>0 days</td>\n",
       "    </tr>\n",
       "    <tr>\n",
       "      <th>64662</th>\n",
       "      <td>3471354230762302850</td>\n",
       "      <td>0</td>\n",
       "      <td>1 days</td>\n",
       "    </tr>\n",
       "    <tr>\n",
       "      <th>64663</th>\n",
       "      <td>3471457119889776084</td>\n",
       "      <td>0</td>\n",
       "      <td>0 days</td>\n",
       "    </tr>\n",
       "    <tr>\n",
       "      <th>64664</th>\n",
       "      <td>3471582995302861547</td>\n",
       "      <td>0</td>\n",
       "      <td>14 days</td>\n",
       "    </tr>\n",
       "    <tr>\n",
       "      <th>64665</th>\n",
       "      <td>9222528303702428283</td>\n",
       "      <td>0</td>\n",
       "      <td>0 days</td>\n",
       "    </tr>\n",
       "  </tbody>\n",
       "</table>\n",
       "<p>64666 rows × 3 columns</p>\n",
       "</div>"
      ],
      "text/plain": [
       "                contact_id  call_disposition     date\n",
       "0       866659017680622750                28 131 days\n",
       "1      2974518792887422733                19 103 days\n",
       "2      5689916162122230730                18 156 days\n",
       "3      2563817588376783298                14 106 days\n",
       "4      3831961766320141998                13  87 days\n",
       "...                    ...               ...      ...\n",
       "64661  3471346052708762864                 0   0 days\n",
       "64662  3471354230762302850                 0   1 days\n",
       "64663  3471457119889776084                 0   0 days\n",
       "64664  3471582995302861547                 0  14 days\n",
       "64665  9222528303702428283                 0   0 days\n",
       "\n",
       "[64666 rows x 3 columns]"
      ]
     },
     "execution_count": 44,
     "metadata": {},
     "output_type": "execute_result"
    }
   ],
   "source": [
    "#merge the new_calls_time and new_calls_disposition\n",
    "new_calls_merge = new_calls_disposition.merge(new_calls_time, on='contact_id', how='left')\n",
    "new_calls_merge"
   ]
  },
  {
   "cell_type": "markdown",
   "metadata": {},
   "source": [
    "### Time Frame on events table"
   ]
  },
  {
   "cell_type": "code",
   "execution_count": 45,
   "metadata": {},
   "outputs": [
    {
     "data": {
      "text/html": [
       "<div>\n",
       "<style scoped>\n",
       "    .dataframe tbody tr th:only-of-type {\n",
       "        vertical-align: middle;\n",
       "    }\n",
       "\n",
       "    .dataframe tbody tr th {\n",
       "        vertical-align: top;\n",
       "    }\n",
       "\n",
       "    .dataframe thead th {\n",
       "        text-align: right;\n",
       "    }\n",
       "</style>\n",
       "<table border=\"1\" class=\"dataframe\">\n",
       "  <thead>\n",
       "    <tr style=\"text-align: right;\">\n",
       "      <th></th>\n",
       "      <th>date</th>\n",
       "      <th>activity_action</th>\n",
       "      <th>activity_type</th>\n",
       "      <th>contact_id</th>\n",
       "    </tr>\n",
       "  </thead>\n",
       "  <tbody>\n",
       "    <tr>\n",
       "      <th>0</th>\n",
       "      <td>2019-04-24</td>\n",
       "      <td>view</td>\n",
       "      <td>known_web_visit</td>\n",
       "      <td>4108398267771616228</td>\n",
       "    </tr>\n",
       "    <tr>\n",
       "      <th>1</th>\n",
       "      <td>2019-04-24</td>\n",
       "      <td>view</td>\n",
       "      <td>known_web_visit</td>\n",
       "      <td>1615093602351989804</td>\n",
       "    </tr>\n",
       "    <tr>\n",
       "      <th>2</th>\n",
       "      <td>2019-04-24</td>\n",
       "      <td>view</td>\n",
       "      <td>known_web_visit</td>\n",
       "      <td>8031730183355860699</td>\n",
       "    </tr>\n",
       "    <tr>\n",
       "      <th>3</th>\n",
       "      <td>2019-04-24</td>\n",
       "      <td>fill_out</td>\n",
       "      <td>form_fill</td>\n",
       "      <td>5975401237816306305</td>\n",
       "    </tr>\n",
       "    <tr>\n",
       "      <th>4</th>\n",
       "      <td>2019-04-24</td>\n",
       "      <td>fill_out</td>\n",
       "      <td>form_fill</td>\n",
       "      <td>3743028858149856355</td>\n",
       "    </tr>\n",
       "  </tbody>\n",
       "</table>\n",
       "</div>"
      ],
      "text/plain": [
       "        date activity_action    activity_type           contact_id\n",
       "0 2019-04-24            view  known_web_visit  4108398267771616228\n",
       "1 2019-04-24            view  known_web_visit  1615093602351989804\n",
       "2 2019-04-24            view  known_web_visit  8031730183355860699\n",
       "3 2019-04-24        fill_out        form_fill  5975401237816306305\n",
       "4 2019-04-24        fill_out        form_fill  3743028858149856355"
      ]
     },
     "execution_count": 45,
     "metadata": {},
     "output_type": "execute_result"
    }
   ],
   "source": [
    "new_events = events.copy()\n",
    "new_events['date'] = pd.to_datetime(new_events['date'], format='%Y-%m-%d')\n",
    "new_events.head()"
   ]
  },
  {
   "cell_type": "code",
   "execution_count": 46,
   "metadata": {},
   "outputs": [
    {
     "data": {
      "text/html": [
       "<div>\n",
       "<style scoped>\n",
       "    .dataframe tbody tr th:only-of-type {\n",
       "        vertical-align: middle;\n",
       "    }\n",
       "\n",
       "    .dataframe tbody tr th {\n",
       "        vertical-align: top;\n",
       "    }\n",
       "\n",
       "    .dataframe thead th {\n",
       "        text-align: right;\n",
       "    }\n",
       "</style>\n",
       "<table border=\"1\" class=\"dataframe\">\n",
       "  <thead>\n",
       "    <tr style=\"text-align: right;\">\n",
       "      <th></th>\n",
       "      <th>contact_id</th>\n",
       "      <th>date</th>\n",
       "    </tr>\n",
       "  </thead>\n",
       "  <tbody>\n",
       "    <tr>\n",
       "      <th>0</th>\n",
       "      <td>1415788574014422038</td>\n",
       "      <td>335 days</td>\n",
       "    </tr>\n",
       "    <tr>\n",
       "      <th>1</th>\n",
       "      <td>8589813686327644231</td>\n",
       "      <td>335 days</td>\n",
       "    </tr>\n",
       "    <tr>\n",
       "      <th>2</th>\n",
       "      <td>2840799196508399016</td>\n",
       "      <td>330 days</td>\n",
       "    </tr>\n",
       "    <tr>\n",
       "      <th>3</th>\n",
       "      <td>6456597479048152312</td>\n",
       "      <td>330 days</td>\n",
       "    </tr>\n",
       "    <tr>\n",
       "      <th>4</th>\n",
       "      <td>5687714639638044912</td>\n",
       "      <td>325 days</td>\n",
       "    </tr>\n",
       "    <tr>\n",
       "      <th>...</th>\n",
       "      <td>...</td>\n",
       "      <td>...</td>\n",
       "    </tr>\n",
       "    <tr>\n",
       "      <th>22246</th>\n",
       "      <td>4836069608754815172</td>\n",
       "      <td>0 days</td>\n",
       "    </tr>\n",
       "    <tr>\n",
       "      <th>22247</th>\n",
       "      <td>4836211839472306087</td>\n",
       "      <td>0 days</td>\n",
       "    </tr>\n",
       "    <tr>\n",
       "      <th>22248</th>\n",
       "      <td>4837219643221673356</td>\n",
       "      <td>0 days</td>\n",
       "    </tr>\n",
       "    <tr>\n",
       "      <th>22249</th>\n",
       "      <td>1042133571770950338</td>\n",
       "      <td>0 days</td>\n",
       "    </tr>\n",
       "    <tr>\n",
       "      <th>22250</th>\n",
       "      <td>1087052746460939</td>\n",
       "      <td>0 days</td>\n",
       "    </tr>\n",
       "  </tbody>\n",
       "</table>\n",
       "<p>22251 rows × 2 columns</p>\n",
       "</div>"
      ],
      "text/plain": [
       "                contact_id     date\n",
       "0      1415788574014422038 335 days\n",
       "1      8589813686327644231 335 days\n",
       "2      2840799196508399016 330 days\n",
       "3      6456597479048152312 330 days\n",
       "4      5687714639638044912 325 days\n",
       "...                    ...      ...\n",
       "22246  4836069608754815172   0 days\n",
       "22247  4836211839472306087   0 days\n",
       "22248  4837219643221673356   0 days\n",
       "22249  1042133571770950338   0 days\n",
       "22250     1087052746460939   0 days\n",
       "\n",
       "[22251 rows x 2 columns]"
      ]
     },
     "execution_count": 46,
     "metadata": {},
     "output_type": "execute_result"
    }
   ],
   "source": [
    "new_events_time_temp = new_events.groupby(['contact_id']).agg(lambda x: max(x) - min(x)).sort_values('date', ascending=False).reset_index()\n",
    "new_events_time_temp"
   ]
  },
  {
   "cell_type": "code",
   "execution_count": 47,
   "metadata": {},
   "outputs": [
    {
     "data": {
      "text/html": [
       "<div>\n",
       "<style scoped>\n",
       "    .dataframe tbody tr th:only-of-type {\n",
       "        vertical-align: middle;\n",
       "    }\n",
       "\n",
       "    .dataframe tbody tr th {\n",
       "        vertical-align: top;\n",
       "    }\n",
       "\n",
       "    .dataframe thead th {\n",
       "        text-align: right;\n",
       "    }\n",
       "</style>\n",
       "<table border=\"1\" class=\"dataframe\">\n",
       "  <thead>\n",
       "    <tr style=\"text-align: right;\">\n",
       "      <th></th>\n",
       "      <th>contact_id</th>\n",
       "      <th>date</th>\n",
       "      <th>activity_action</th>\n",
       "    </tr>\n",
       "  </thead>\n",
       "  <tbody>\n",
       "    <tr>\n",
       "      <th>0</th>\n",
       "      <td>1415788574014422038</td>\n",
       "      <td>335 days</td>\n",
       "      <td>22.0</td>\n",
       "    </tr>\n",
       "    <tr>\n",
       "      <th>1</th>\n",
       "      <td>8589813686327644231</td>\n",
       "      <td>335 days</td>\n",
       "      <td>27.0</td>\n",
       "    </tr>\n",
       "    <tr>\n",
       "      <th>2</th>\n",
       "      <td>2840799196508399016</td>\n",
       "      <td>330 days</td>\n",
       "      <td>42.0</td>\n",
       "    </tr>\n",
       "    <tr>\n",
       "      <th>3</th>\n",
       "      <td>6456597479048152312</td>\n",
       "      <td>330 days</td>\n",
       "      <td>64.0</td>\n",
       "    </tr>\n",
       "    <tr>\n",
       "      <th>4</th>\n",
       "      <td>5687714639638044912</td>\n",
       "      <td>325 days</td>\n",
       "      <td>38.0</td>\n",
       "    </tr>\n",
       "    <tr>\n",
       "      <th>...</th>\n",
       "      <td>...</td>\n",
       "      <td>...</td>\n",
       "      <td>...</td>\n",
       "    </tr>\n",
       "    <tr>\n",
       "      <th>22246</th>\n",
       "      <td>4836069608754815172</td>\n",
       "      <td>0 days</td>\n",
       "      <td>4.0</td>\n",
       "    </tr>\n",
       "    <tr>\n",
       "      <th>22247</th>\n",
       "      <td>4836211839472306087</td>\n",
       "      <td>0 days</td>\n",
       "      <td>4.0</td>\n",
       "    </tr>\n",
       "    <tr>\n",
       "      <th>22248</th>\n",
       "      <td>4837219643221673356</td>\n",
       "      <td>0 days</td>\n",
       "      <td>3.0</td>\n",
       "    </tr>\n",
       "    <tr>\n",
       "      <th>22249</th>\n",
       "      <td>1042133571770950338</td>\n",
       "      <td>0 days</td>\n",
       "      <td>3.0</td>\n",
       "    </tr>\n",
       "    <tr>\n",
       "      <th>22250</th>\n",
       "      <td>1087052746460939</td>\n",
       "      <td>0 days</td>\n",
       "      <td>4.0</td>\n",
       "    </tr>\n",
       "  </tbody>\n",
       "</table>\n",
       "<p>22251 rows × 3 columns</p>\n",
       "</div>"
      ],
      "text/plain": [
       "                contact_id     date  activity_action\n",
       "0      1415788574014422038 335 days             22.0\n",
       "1      8589813686327644231 335 days             27.0\n",
       "2      2840799196508399016 330 days             42.0\n",
       "3      6456597479048152312 330 days             64.0\n",
       "4      5687714639638044912 325 days             38.0\n",
       "...                    ...      ...              ...\n",
       "22246  4836069608754815172   0 days              4.0\n",
       "22247  4836211839472306087   0 days              4.0\n",
       "22248  4837219643221673356   0 days              3.0\n",
       "22249  1042133571770950338   0 days              3.0\n",
       "22250     1087052746460939   0 days              4.0\n",
       "\n",
       "[22251 rows x 3 columns]"
      ]
     },
     "execution_count": 47,
     "metadata": {},
     "output_type": "execute_result"
    }
   ],
   "source": [
    "new_events_time = new_events_time_temp.merge(combined, on='contact_id').drop('call_disposition', axis=1)\n",
    "new_events_time"
   ]
  },
  {
   "cell_type": "markdown",
   "metadata": {},
   "source": [
    "\n",
    "## combine table with time frame"
   ]
  },
  {
   "cell_type": "code",
   "execution_count": 81,
   "metadata": {},
   "outputs": [
    {
     "data": {
      "text/html": [
       "<div>\n",
       "<style scoped>\n",
       "    .dataframe tbody tr th:only-of-type {\n",
       "        vertical-align: middle;\n",
       "    }\n",
       "\n",
       "    .dataframe tbody tr th {\n",
       "        vertical-align: top;\n",
       "    }\n",
       "\n",
       "    .dataframe thead th {\n",
       "        text-align: right;\n",
       "    }\n",
       "</style>\n",
       "<table border=\"1\" class=\"dataframe\">\n",
       "  <thead>\n",
       "    <tr style=\"text-align: right;\">\n",
       "      <th></th>\n",
       "      <th>contact_id</th>\n",
       "      <th>call_disposition</th>\n",
       "      <th>calls_time</th>\n",
       "      <th>events_time</th>\n",
       "      <th>activity_action</th>\n",
       "      <th>success</th>\n",
       "    </tr>\n",
       "  </thead>\n",
       "  <tbody>\n",
       "    <tr>\n",
       "      <th>0</th>\n",
       "      <td>866659017680622750</td>\n",
       "      <td>28</td>\n",
       "      <td>131</td>\n",
       "      <td>300.0</td>\n",
       "      <td>77.0</td>\n",
       "      <td>1.0</td>\n",
       "    </tr>\n",
       "    <tr>\n",
       "      <th>1</th>\n",
       "      <td>2974518792887422733</td>\n",
       "      <td>19</td>\n",
       "      <td>103</td>\n",
       "      <td>240.0</td>\n",
       "      <td>13.0</td>\n",
       "      <td>1.0</td>\n",
       "    </tr>\n",
       "    <tr>\n",
       "      <th>2</th>\n",
       "      <td>5689916162122230730</td>\n",
       "      <td>18</td>\n",
       "      <td>156</td>\n",
       "      <td>0.0</td>\n",
       "      <td>0.0</td>\n",
       "      <td>1.0</td>\n",
       "    </tr>\n",
       "    <tr>\n",
       "      <th>3</th>\n",
       "      <td>2563817588376783298</td>\n",
       "      <td>14</td>\n",
       "      <td>106</td>\n",
       "      <td>0.0</td>\n",
       "      <td>0.0</td>\n",
       "      <td>1.0</td>\n",
       "    </tr>\n",
       "    <tr>\n",
       "      <th>4</th>\n",
       "      <td>3831961766320141998</td>\n",
       "      <td>13</td>\n",
       "      <td>87</td>\n",
       "      <td>134.0</td>\n",
       "      <td>6.0</td>\n",
       "      <td>1.0</td>\n",
       "    </tr>\n",
       "    <tr>\n",
       "      <th>...</th>\n",
       "      <td>...</td>\n",
       "      <td>...</td>\n",
       "      <td>...</td>\n",
       "      <td>...</td>\n",
       "      <td>...</td>\n",
       "      <td>...</td>\n",
       "    </tr>\n",
       "    <tr>\n",
       "      <th>64661</th>\n",
       "      <td>3471346052708762864</td>\n",
       "      <td>0</td>\n",
       "      <td>0</td>\n",
       "      <td>0.0</td>\n",
       "      <td>0.0</td>\n",
       "      <td>0.0</td>\n",
       "    </tr>\n",
       "    <tr>\n",
       "      <th>64662</th>\n",
       "      <td>3471354230762302850</td>\n",
       "      <td>0</td>\n",
       "      <td>1</td>\n",
       "      <td>0.0</td>\n",
       "      <td>0.0</td>\n",
       "      <td>0.0</td>\n",
       "    </tr>\n",
       "    <tr>\n",
       "      <th>64663</th>\n",
       "      <td>3471457119889776084</td>\n",
       "      <td>0</td>\n",
       "      <td>0</td>\n",
       "      <td>0.0</td>\n",
       "      <td>0.0</td>\n",
       "      <td>0.0</td>\n",
       "    </tr>\n",
       "    <tr>\n",
       "      <th>64664</th>\n",
       "      <td>3471582995302861547</td>\n",
       "      <td>0</td>\n",
       "      <td>14</td>\n",
       "      <td>10.0</td>\n",
       "      <td>7.0</td>\n",
       "      <td>0.0</td>\n",
       "    </tr>\n",
       "    <tr>\n",
       "      <th>64665</th>\n",
       "      <td>9222528303702428283</td>\n",
       "      <td>0</td>\n",
       "      <td>0</td>\n",
       "      <td>42.0</td>\n",
       "      <td>2.0</td>\n",
       "      <td>0.0</td>\n",
       "    </tr>\n",
       "  </tbody>\n",
       "</table>\n",
       "<p>64666 rows × 6 columns</p>\n",
       "</div>"
      ],
      "text/plain": [
       "                contact_id  call_disposition  calls_time  events_time  \\\n",
       "0       866659017680622750                28         131        300.0   \n",
       "1      2974518792887422733                19         103        240.0   \n",
       "2      5689916162122230730                18         156          0.0   \n",
       "3      2563817588376783298                14         106          0.0   \n",
       "4      3831961766320141998                13          87        134.0   \n",
       "...                    ...               ...         ...          ...   \n",
       "64661  3471346052708762864                 0           0          0.0   \n",
       "64662  3471354230762302850                 0           1          0.0   \n",
       "64663  3471457119889776084                 0           0          0.0   \n",
       "64664  3471582995302861547                 0          14         10.0   \n",
       "64665  9222528303702428283                 0           0         42.0   \n",
       "\n",
       "       activity_action  success  \n",
       "0                 77.0      1.0  \n",
       "1                 13.0      1.0  \n",
       "2                  0.0      1.0  \n",
       "3                  0.0      1.0  \n",
       "4                  6.0      1.0  \n",
       "...                ...      ...  \n",
       "64661              0.0      0.0  \n",
       "64662              0.0      0.0  \n",
       "64663              0.0      0.0  \n",
       "64664              7.0      0.0  \n",
       "64665              2.0      0.0  \n",
       "\n",
       "[64666 rows x 6 columns]"
      ]
     },
     "execution_count": 81,
     "metadata": {},
     "output_type": "execute_result"
    }
   ],
   "source": [
    "#merge unique contact_id with these two new table\n",
    "combine_time = new_calls_merge.merge(new_events_time, on='contact_id',how='left').rename(columns={'date_x':'calls_time', 'date_y':'events_time'})\n",
    "\n",
    "#set the success to 1, fail to 0\n",
    "success = []\n",
    "for i in combine_time['call_disposition']:\n",
    "    if i > 0:\n",
    "        success = np.append(success, 1)\n",
    "    else:\n",
    "        success = np.append(success, 0)\n",
    "\n",
    "#new column success\n",
    "combine_time['success'] = success\n",
    "combine_time['calls_time'] = pd.to_timedelta(combine_time.calls_time, errors='coerce').dt.days\n",
    "combine_time['events_time'] = pd.to_timedelta(combine_time.events_time, errors='coerce').dt.days.fillna(0)\n",
    "combine_time['activity_action'] = combine_time['activity_action'].fillna(0)\n",
    "combine_time "
   ]
  },
  {
   "cell_type": "markdown",
   "metadata": {},
   "source": [
    "## Start to Build Model\n",
    "1. Idea: using LightGBM which is based on gradient boosted decision trees to build a model, discover if the features affect customers' positive responses\n",
    "(documentary link: https://lightgbm.readthedocs.io/en/latest/Python-Intro.html)\n",
    "2. target label: success -- times of positive responses for one contact\n",
    "3. feature: calls_time(the differece between starting time and ending time), events_time, activity_action(times of activities)\n",
    "4. Goal: after running the model, we can predict if the id is positive. If it is positive, then the id is in our potential customer list."
   ]
  },
  {
   "cell_type": "code",
   "execution_count": 124,
   "metadata": {},
   "outputs": [],
   "source": [
    "# from sklearn.preprocessing import LabelEncoder\n",
    "# le = LabelEncoder()\n",
    "# cols = [\"Job\", \"Marital\", \"Education\", \"Communication\", \"LastContactMonth\"]\n",
    "# for i in cols:\n",
    "#     train[i] = le.fit_transform(train[i])\n",
    "\n",
    "X = combine_time.iloc[:, 2:5].values\n",
    "y = combine_time['success'].values\n",
    "\n",
    "from sklearn.model_selection import train_test_split\n",
    "# x_train, x_test, y_train, y_test = train_test_split(x, y, test_size = 0.33, random_state = 42)\n",
    "X_train, X_test, y_train, y_test = train_test_split(X, y, test_size=0.20,random_state=42, stratify = y)"
   ]
  },
  {
   "cell_type": "code",
   "execution_count": 125,
   "metadata": {},
   "outputs": [],
   "source": [
    "#The code for the below matrix is taken from sklearn documentation\n",
    "#Defining the confusion matrix function\n",
    "def plot_confusion_matrix(cm, classes,\n",
    "                          normalize=False,\n",
    "                          title='Confusion matrix',\n",
    "                          cmap=plt.cm.Blues):\n",
    "    \n",
    "   \n",
    "    plt.imshow(cm, interpolation='nearest', cmap=cmap)\n",
    "    plt.title(title)\n",
    "    plt.colorbar()\n",
    "    tick_marks = np.arange(len(classes))\n",
    "    plt.xticks(tick_marks, classes, rotation=45)\n",
    "    plt.yticks(tick_marks, classes)\n",
    "    \n",
    "\n",
    "\n",
    "    thresh = cm.max() / 2.\n",
    "    for i, j in itertools.product(range(cm.shape[0]), range(cm.shape[1])):\n",
    "        plt.text(j, i, cm[i, j],\n",
    "                 horizontalalignment=\"center\",\n",
    "                 color=\"white\" if cm[i, j] > thresh else \"black\")\n",
    "        \n",
    "        \n",
    "    plt.tight_layout()\n",
    "    plt.ylabel('True label')\n",
    "    plt.xlabel('Predicted label')\n",
    "#Using Success and Failure for 0 and 1    \n",
    "class_names = ['Success','Failure']"
   ]
  },
  {
   "cell_type": "markdown",
   "metadata": {},
   "source": [
    "## Model Building Process\n",
    "We apply 7 Classification Predictor Algorithms to our predictive model as the list below. Then use 10-fold to get cross validation score and do the model validation.\n",
    "\n",
    "1. KNN\n",
    "2. Logistic Regression\n",
    "3. SVM\n",
    "4. Decision Tree\n",
    "5. Random Forest\n",
    "6. AdaBoost\n",
    "7. XGBoost\n",
    "8. LightGBM Classifier"
   ]
  },
  {
   "cell_type": "markdown",
   "metadata": {},
   "source": [
    "## KNN"
   ]
  },
  {
   "cell_type": "code",
   "execution_count": 126,
   "metadata": {},
   "outputs": [
    {
     "name": "stdout",
     "output_type": "stream",
     "text": [
      "kNN Accuracy is 0.77\n",
      "Cross Validation Score = 0.53\n",
      "              precision    recall  f1-score   support\n",
      "\n",
      "         0.0       0.80      0.94      0.86     10104\n",
      "         1.0       0.42      0.16      0.23      2830\n",
      "\n",
      "    accuracy                           0.77     12934\n",
      "   macro avg       0.61      0.55      0.55     12934\n",
      "weighted avg       0.72      0.77      0.73     12934\n",
      "\n"
     ]
    },
    {
     "data": {
      "image/png": "[encoded data removed]",
      "text/plain": [
       "<Figure size 432x288 with 2 Axes>"
      ]
     },
     "metadata": {
      "needs_background": "light"
     },
     "output_type": "display_data"
    }
   ],
   "source": [
    "# Defining the kNNClassifier with 6 neighbors\n",
    "knn = KNeighborsClassifier(n_neighbors = 6)\n",
    "#Fitting the classifier to the training set\n",
    "knn.fit(X_train,y_train)\n",
    "print (\"kNN Accuracy is %2.2f\" % accuracy_score(y_test, knn.predict(X_test)))\n",
    "#The cross validation score is obtained for kNN using 10 folds\n",
    "score_knn = cross_val_score(knn, X, y, cv=10).mean()\n",
    "print(\"Cross Validation Score = %2.2f\" % score_knn)\n",
    "y_pred= knn.predict(X_test)\n",
    "print(classification_report(y_test, y_pred))\n",
    "#Defining the confusion matrix\n",
    "cm = confusion_matrix(y_test,y_pred)\n",
    "#Plotting the confusion matrix\n",
    "plot_confusion_matrix(cm, classes=class_names, title='Confusion matrix')"
   ]
  },
  {
   "cell_type": "markdown",
   "metadata": {},
   "source": [
    "## Logistic Regression"
   ]
  },
  {
   "cell_type": "code",
   "execution_count": 130,
   "metadata": {},
   "outputs": [
    {
     "name": "stdout",
     "output_type": "stream",
     "text": [
      "Logistic Accuracy is 0.78\n",
      "Cross Validation Score = 0.78\n",
      "              precision    recall  f1-score   support\n",
      "\n",
      "         0.0       0.78      0.99      0.87     10104\n",
      "         1.0       0.40      0.02      0.04      2830\n",
      "\n",
      "    accuracy                           0.78     12934\n",
      "   macro avg       0.59      0.51      0.46     12934\n",
      "weighted avg       0.70      0.78      0.69     12934\n",
      "\n"
     ]
    },
    {
     "data": {
      "image/png": "[encoded data removed]",
      "text/plain": [
       "<Figure size 432x288 with 2 Axes>"
      ]
     },
     "metadata": {
      "needs_background": "light"
     },
     "output_type": "display_data"
    }
   ],
   "source": [
    "#Logistic Regression Classifier\n",
    "LR = LogisticRegression()\n",
    "LR.fit(X_train,y_train)\n",
    "print (\"Logistic Accuracy is %2.2f\" % accuracy_score(y_test, LR.predict(X_test)))\n",
    "score_LR = cross_val_score(LR, X, y, cv=10).mean()\n",
    "print(\"Cross Validation Score = %2.2f\" % score_LR)\n",
    "y_pred = LR.predict(X_test)\n",
    "print(classification_report(y_test, y_pred))\n",
    "# Confusion matrix for LR\n",
    "cm = confusion_matrix(y_test,y_pred)\n",
    "plot_confusion_matrix(cm, classes=class_names, title='Confusion matrix')"
   ]
  },
  {
   "cell_type": "markdown",
   "metadata": {},
   "source": [
    "## SVM"
   ]
  },
  {
   "cell_type": "code",
   "execution_count": 132,
   "metadata": {},
   "outputs": [
    {
     "name": "stdout",
     "output_type": "stream",
     "text": [
      "SVM Accuracy is 0.78\n",
      "Cross Validation Score = 0.78\n",
      "              precision    recall  f1-score   support\n",
      "\n",
      "         0.0       0.78      1.00      0.88     10104\n",
      "         1.0       0.45      0.01      0.01      2830\n",
      "\n",
      "    accuracy                           0.78     12934\n",
      "   macro avg       0.61      0.50      0.45     12934\n",
      "weighted avg       0.71      0.78      0.69     12934\n",
      "\n"
     ]
    },
    {
     "data": {
      "image/png": "[encoded data removed]",
      "text/plain": [
       "<Figure size 432x288 with 2 Axes>"
      ]
     },
     "metadata": {
      "needs_background": "light"
     },
     "output_type": "display_data"
    }
   ],
   "source": [
    "#SVM Classifier\n",
    "SVM = svm.SVC()\n",
    "SVM.fit(X_train, y_train)\n",
    "print (\"SVM Accuracy is %2.2f\" % accuracy_score(y_test, SVM.predict(X_test)))\n",
    "score_svm = cross_val_score(SVM, X, y, cv=10).mean()\n",
    "print(\"Cross Validation Score = %2.2f\" % score_svm)\n",
    "y_pred = SVM.predict(X_test)\n",
    "print(classification_report(y_test,y_pred))\n",
    "#Confusion matrix for SVM\n",
    "cm = confusion_matrix(y_test,y_pred)\n",
    "plot_confusion_matrix(cm, classes=class_names, title='Confusion matrix')"
   ]
  },
  {
   "cell_type": "markdown",
   "metadata": {},
   "source": [
    "## Decision Tree"
   ]
  },
  {
   "cell_type": "code",
   "execution_count": 133,
   "metadata": {},
   "outputs": [
    {
     "name": "stdout",
     "output_type": "stream",
     "text": [
      "Decision Tree Accuracy is 0.72\n",
      "Cross Validation Score = 0.71\n",
      "              precision    recall  f1-score   support\n",
      "\n",
      "         0.0       0.87      0.75      0.80     10104\n",
      "         1.0       0.40      0.60      0.48      2830\n",
      "\n",
      "    accuracy                           0.72     12934\n",
      "   macro avg       0.64      0.67      0.64     12934\n",
      "weighted avg       0.77      0.72      0.73     12934\n",
      "\n"
     ]
    },
    {
     "data": {
      "image/png": "[encoded data removed]",
      "text/plain": [
       "<Figure size 432x288 with 2 Axes>"
      ]
     },
     "metadata": {
      "needs_background": "light"
     },
     "output_type": "display_data"
    }
   ],
   "source": [
    "# Decision Tree Classifier\n",
    "DT = tree.DecisionTreeClassifier(random_state = 0,class_weight=\"balanced\",\n",
    "    min_weight_fraction_leaf=0.01)\n",
    "DT = DT.fit(X_train,y_train)\n",
    "print (\"Decision Tree Accuracy is %2.2f\" % accuracy_score(y_test, DT.predict(X_test)))\n",
    "score_DT = cross_val_score(DT, X, y, cv=10).mean()\n",
    "print(\"Cross Validation Score = %2.2f\" % score_DT)\n",
    "y_pred = DT.predict(X_test)\n",
    "print(classification_report(y_test, y_pred))\n",
    "# Confusion Matrix for Decision Tree\n",
    "cm = confusion_matrix(y_test,y_pred)\n",
    "plot_confusion_matrix(cm, classes=class_names, title='Confusion matrix')"
   ]
  },
  {
   "cell_type": "markdown",
   "metadata": {},
   "source": [
    "## Random Forest"
   ]
  },
  {
   "cell_type": "code",
   "execution_count": 134,
   "metadata": {},
   "outputs": [
    {
     "name": "stdout",
     "output_type": "stream",
     "text": [
      "Random Forest Accuracy is 0.73\n",
      "Cross Validation Score = 0.72\n",
      "              precision    recall  f1-score   support\n",
      "\n",
      "         0.0       0.85      0.79      0.82     10104\n",
      "         1.0       0.40      0.51      0.45      2830\n",
      "\n",
      "    accuracy                           0.73     12934\n",
      "   macro avg       0.63      0.65      0.64     12934\n",
      "weighted avg       0.75      0.73      0.74     12934\n",
      "\n"
     ]
    },
    {
     "data": {
      "image/png": "[encoded data removed]",
      "text/plain": [
       "<Figure size 432x288 with 2 Axes>"
      ]
     },
     "metadata": {
      "needs_background": "light"
     },
     "output_type": "display_data"
    }
   ],
   "source": [
    "#Random Forest Classifier\n",
    "rfc = RandomForestClassifier(n_estimators=1000, max_depth=None, min_samples_split=10,class_weight=\"balanced\")\n",
    "rfc.fit(X_train, y_train)\n",
    "print (\"Random Forest Accuracy is %2.2f\" % accuracy_score(y_test, rfc.predict(X_test)))\n",
    "score_rfc = cross_val_score(rfc, X, y, cv=10).mean()\n",
    "print(\"Cross Validation Score = %2.2f\" % score_rfc)\n",
    "y_pred = rfc.predict(X_test)\n",
    "print(classification_report(y_test,y_pred ))\n",
    "#Confusion Matrix for Random Forest\n",
    "cm = confusion_matrix(y_test,y_pred)\n",
    "plot_confusion_matrix(cm, classes=class_names, title='Confusion matrix')"
   ]
  },
  {
   "cell_type": "markdown",
   "metadata": {},
   "source": [
    "## AdaBoost"
   ]
  },
  {
   "cell_type": "code",
   "execution_count": 139,
   "metadata": {},
   "outputs": [
    {
     "name": "stdout",
     "output_type": "stream",
     "text": [
      "AdaBoost Accuracy= 0.78\n",
      "Cross Validation Score = 0.78\n",
      "              precision    recall  f1-score   support\n",
      "\n",
      "         0.0       0.79      0.99      0.88     10104\n",
      "         1.0       0.52      0.03      0.06      2830\n",
      "\n",
      "    accuracy                           0.78     12934\n",
      "   macro avg       0.65      0.51      0.47     12934\n",
      "weighted avg       0.73      0.78      0.70     12934\n",
      "\n"
     ]
    },
    {
     "data": {
      "image/png": "[encoded data removed]",
      "text/plain": [
       "<Figure size 432x288 with 2 Axes>"
      ]
     },
     "metadata": {
      "needs_background": "light"
     },
     "output_type": "display_data"
    }
   ],
   "source": [
    "#AdaBoost Classifier\n",
    "ada = AdaBoostClassifier(n_estimators=400, learning_rate=0.1)\n",
    "ada.fit(X_train,y_train)\n",
    "print (\"AdaBoost Accuracy= %2.2f\" % accuracy_score(y_test,ada.predict(X_test)))\n",
    "score_ada = cross_val_score(ada, X, y, cv=10).mean()\n",
    "print(\"Cross Validation Score = %2.2f\" % score_ada)\n",
    "y_pred = ada.predict(X_test)\n",
    "print(classification_report(y_test,y_pred ))\n",
    "#Confusion Marix for AdaBoost\n",
    "cm = confusion_matrix(y_test,y_pred)\n",
    "plot_confusion_matrix(cm, classes=class_names, title='Confusion matrix')"
   ]
  },
  {
   "cell_type": "markdown",
   "metadata": {},
   "source": [
    "## XGBOOST"
   ]
  },
  {
   "cell_type": "code",
   "execution_count": 136,
   "metadata": {},
   "outputs": [
    {
     "name": "stdout",
     "output_type": "stream",
     "text": [
      "GradientBoost Accuracy= 0.78\n",
      "Cross Validation Score = 0.78\n",
      "              precision    recall  f1-score   support\n",
      "\n",
      "         0.0       0.79      0.99      0.88     10104\n",
      "         1.0       0.53      0.04      0.08      2830\n",
      "\n",
      "    accuracy                           0.78     12934\n",
      "   macro avg       0.66      0.52      0.48     12934\n",
      "weighted avg       0.73      0.78      0.70     12934\n",
      "\n"
     ]
    },
    {
     "data": {
      "image/png": "[encoded data removed]",
      "text/plain": [
       "<Figure size 432x288 with 2 Axes>"
      ]
     },
     "metadata": {
      "needs_background": "light"
     },
     "output_type": "display_data"
    }
   ],
   "source": [
    "from sklearn.metrics import accuracy_score\n",
    "from xgboost import XGBClassifier\n",
    "\n",
    "#XGBoost Classifier\n",
    "xgb = GradientBoostingClassifier(n_estimators=1000,learning_rate=0.01)\n",
    "xgb.fit(X_train , y_train)\n",
    "print (\"GradientBoost Accuracy= %2.2f\" % accuracy_score(y_test,xgb.predict(X_test)))\n",
    "score_xgb = cross_val_score(xgb, X, y, cv=10).mean()\n",
    "print(\"Cross Validation Score = %2.2f\" % score_xgb)\n",
    "y_pred = xgb.predict(X_test) \n",
    "print(classification_report(y_test,y_pred))\n",
    "#Confusion Matrix for XGBoost Classifier\n",
    "cm_xg = confusion_matrix(y_test,y_pred)\n",
    "plot_confusion_matrix(cm_xg, classes=class_names, title='Confusion matrix')"
   ]
  },
  {
   "cell_type": "markdown",
   "metadata": {},
   "source": [
    "## LIGHTGBM"
   ]
  },
  {
   "cell_type": "code",
   "execution_count": 137,
   "metadata": {},
   "outputs": [],
   "source": [
    "# pip install lightgbm"
   ]
  },
  {
   "cell_type": "code",
   "execution_count": 160,
   "metadata": {},
   "outputs": [
    {
     "name": "stdout",
     "output_type": "stream",
     "text": [
      "LightGBM Accuracy= 0.78\n",
      "Cross Validation Score = 0.78\n",
      "              precision    recall  f1-score   support\n",
      "\n",
      "         0.0       0.78      0.99      0.88     10104\n",
      "         1.0       0.49      0.03      0.05      2830\n",
      "\n",
      "    accuracy                           0.78     12934\n",
      "   macro avg       0.63      0.51      0.47     12934\n",
      "weighted avg       0.72      0.78      0.70     12934\n",
      "\n"
     ]
    },
    {
     "data": {
      "image/png": "[encoded data removed]",
      "text/plain": [
       "<Figure size 432x288 with 2 Axes>"
      ]
     },
     "metadata": {
      "needs_background": "light"
     },
     "output_type": "display_data"
    }
   ],
   "source": [
    "#lightgbm Classifier\n",
    "from lightgbm import LGBMClassifier\n",
    "# parameters={'n_estimators':[900,1000,1100],\n",
    "#             'learning_rate':[0.01],\n",
    "#             'max_depth':[8],\n",
    "#             'min_child_weight':[1],\n",
    "#             'subsample':[0.8],\n",
    "#             'colsample_bytree':[0.3,0.4,0.5]}\n",
    "lgb = LGBMClassifier(n_estimators=1100, learning_rate=0.01, max_depth=4, min_child_weight=1, subsample=0.8, \\\n",
    "                     colsample_bytree=0.5, num_leaves=100)\n",
    "\n",
    "lgb.fit(X_train,y_train)\n",
    "print (\"LightGBM Accuracy= %2.2f\" % accuracy_score(y_test,lgb.predict(X_test)))\n",
    "score_lgb = cross_val_score(lgb, X, y, cv=10).mean()\n",
    "print(\"Cross Validation Score = %2.2f\" % score_lgb)\n",
    "y_pred = lgb.predict(X_test)\n",
    "print(classification_report(y_test, y_pred))\n",
    "#Confusion Marix for lightgbm\n",
    "cm = confusion_matrix(y_test,y_pred)\n",
    "plot_confusion_matrix(cm, classes=class_names, title='Confusion matrix')"
   ]
  },
  {
   "cell_type": "markdown",
   "metadata": {},
   "source": [
    "## ROC Curves\n",
    "Applying Reciever Operating Characteristic(ROC) Curves to plot the true positive rate and the false postive rates so that we can determine which model works best."
   ]
  },
  {
   "cell_type": "code",
   "execution_count": 140,
   "metadata": {},
   "outputs": [
    {
     "data": {
      "image/png": "[encoded data removed]",
      "text/plain": [
       "<Figure size 432x288 with 1 Axes>"
      ]
     },
     "metadata": {
      "needs_background": "light"
     },
     "output_type": "display_data"
    }
   ],
   "source": [
    "#Obtaining False Positive Rate, True Positive Rate and Threshold for all classifiers\n",
    "fpr, tpr, thresholds = roc_curve(y_test, knn.predict_proba(X_test)[:,1])\n",
    "LR_fpr, LR_tpr, thresholds = roc_curve(y_test, LR.predict_proba(X_test)[:,1])\n",
    "#SVM_fpr, SVM_tpr, thresholds = roc_curve(y_test, SVM.predict_proba(X_test)[:,1])\n",
    "DT_fpr, DT_tpr, thresholds = roc_curve(y_test, DT.predict_proba(X_test)[:,1])\n",
    "rfc_fpr, rfc_tpr, thresholds = roc_curve(y_test, rfc.predict_proba(X_test)[:,1])\n",
    "ada_fpr, ada_tpr, thresholds = roc_curve(y_test, ada.predict_proba(X_test)[:,1])\n",
    "xgb_fpr, xgb_tpr, thresholds = roc_curve(y_test, xgb.predict_proba(X_test)[:,1])\n",
    "#PLotting ROC Curves for all classifiers\n",
    "plt.plot(fpr, tpr, label='KNN' )\n",
    "plt.plot(LR_fpr, LR_tpr, label='Logistic Regression')\n",
    "#plt.plot(SVM_fpr, SVM_tpr, label='SVM')\n",
    "plt.plot(DT_fpr, DT_tpr, label='Decision Tree')\n",
    "plt.plot(rfc_fpr, rfc_tpr, label='Random Forest')\n",
    "plt.plot(ada_fpr, ada_tpr, label='AdaBoost')\n",
    "plt.plot(xgb_fpr, xgb_tpr, label='GradientBoosting')\n",
    "# Plot Base Rate ROC\n",
    "plt.plot([0,1],[0,1],label='Base Rate')\n",
    "\n",
    "plt.xlim([0.0, 1.0])\n",
    "plt.ylim([0.0, 1.0])\n",
    "plt.xlabel('False Positive Rate')\n",
    "plt.ylabel('True Positive Rate')\n",
    "plt.title('ROC Graph')\n",
    "plt.legend(loc=\"lower right\")\n",
    "plt.show()"
   ]
  },
  {
   "cell_type": "code",
   "execution_count": null,
   "metadata": {},
   "outputs": [],
   "source": []
  },
  {
   "cell_type": "code",
   "execution_count": null,
   "metadata": {},
   "outputs": [],
   "source": []
  },
  {
   "cell_type": "code",
   "execution_count": null,
   "metadata": {},
   "outputs": [],
   "source": []
  },
  {
   "cell_type": "code",
   "execution_count": null,
   "metadata": {},
   "outputs": [],
   "source": []
  },
  {
   "cell_type": "code",
   "execution_count": null,
   "metadata": {},
   "outputs": [],
   "source": []
  },
  {
   "cell_type": "markdown",
   "metadata": {},
   "source": [
    "## More to-do:\n",
    "1. Data preprocessing\n",
    "2. Do the correlation, find out the relationship between positive response and other features. \n",
    "3. Add more features like the gap between each phones call day time or each events duration. One feature for max, one for min. (4 features)\n",
    "4. Continue to finish the model.\n",
    "5. More testing."
   ]
  },
  {
   "cell_type": "markdown",
   "metadata": {},
   "source": [
    "## More\n",
    "Besides, if we want to find out which day is the specific day to call or which day the proportion of positive call responses is largest, we could use statistical way to do it, like draw a bar chart. It is more visualized. "
   ]
  },
  {
   "cell_type": "code",
   "execution_count": null,
   "metadata": {},
   "outputs": [],
   "source": []
  }
 ],
 "metadata": {
  "kernelspec": {
   "display_name": "Python 3",
   "language": "python",
   "name": "python3"
  },
  "language_info": {
   "codemirror_mode": {
    "name": "ipython",
    "version": 3
   },
   "file_extension": ".py",
   "mimetype": "text/x-python",
   "name": "python",
   "nbconvert_exporter": "python",
   "pygments_lexer": "ipython3",
   "version": "3.8.3"
  }
 },
 "nbformat": 4,
 "nbformat_minor": 4
}
